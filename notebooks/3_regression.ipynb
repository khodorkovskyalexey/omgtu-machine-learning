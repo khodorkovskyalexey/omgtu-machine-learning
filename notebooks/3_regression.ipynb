{
  "nbformat": 4,
  "nbformat_minor": 0,
  "metadata": {
    "colab": {
      "name": "3_regression_1.ipynb",
      "provenance": [],
      "toc_visible": true
    },
    "kernelspec": {
      "name": "python3",
      "display_name": "Python 3"
    },
    "language_info": {
      "name": "python"
    }
  },
  "cells": [
    {
      "cell_type": "markdown",
      "metadata": {
        "id": "cHs13xolLLm9"
      },
      "source": [
        "# Предобработка данных"
      ]
    },
    {
      "cell_type": "code",
      "metadata": {
        "id": "rAtWkXlKLOzh"
      },
      "source": [
        "import numpy as np\n",
        "import pandas as pd\n",
        "from sklearn import metrics\n",
        "from sklearn.model_selection import GridSearchCV"
      ],
      "execution_count": 1,
      "outputs": []
    },
    {
      "cell_type": "code",
      "metadata": {
        "colab": {
          "base_uri": "https://localhost:8080/",
          "height": 439
        },
        "id": "3hvbJWImLRuP",
        "outputId": "b66b082d-3be4-4505-f622-e79b6c4855cd"
      },
      "source": [
        "df = pd.DataFrame\n",
        "df = pd.read_csv('../qsar/qsar_fish_toxicity_preprocessed.csv' )\n",
        "del df['Unnamed: 0']\n",
        "df"
      ],
      "execution_count": 3,
      "outputs": [
        {
          "output_type": "execute_result",
          "data": {
            "text/html": [
              "<div>\n",
              "<style scoped>\n",
              "    .dataframe tbody tr th:only-of-type {\n",
              "        vertical-align: middle;\n",
              "    }\n",
              "\n",
              "    .dataframe tbody tr th {\n",
              "        vertical-align: top;\n",
              "    }\n",
              "\n",
              "    .dataframe thead th {\n",
              "        text-align: right;\n",
              "    }\n",
              "</style>\n",
              "<table border=\"1\" class=\"dataframe\">\n",
              "  <thead>\n",
              "    <tr style=\"text-align: right;\">\n",
              "      <th></th>\n",
              "      <th>CIC0</th>\n",
              "      <th>SM1_Dz</th>\n",
              "      <th>GATS1i</th>\n",
              "      <th>MLOGP</th>\n",
              "      <th>Quantitative_response</th>\n",
              "      <th>NdsCH_0</th>\n",
              "      <th>NdsCH_1</th>\n",
              "      <th>NdsCH_2</th>\n",
              "      <th>NdsCH_3</th>\n",
              "      <th>NdsCH_4</th>\n",
              "      <th>NdssC_0</th>\n",
              "      <th>NdssC_1</th>\n",
              "      <th>NdssC_2</th>\n",
              "      <th>NdssC_3</th>\n",
              "      <th>NdssC_4</th>\n",
              "      <th>NdssC_5</th>\n",
              "      <th>NdssC_6</th>\n",
              "    </tr>\n",
              "  </thead>\n",
              "  <tbody>\n",
              "    <tr>\n",
              "      <th>0</th>\n",
              "      <td>3.260</td>\n",
              "      <td>0.829</td>\n",
              "      <td>1.676</td>\n",
              "      <td>1.453</td>\n",
              "      <td>3.770</td>\n",
              "      <td>1</td>\n",
              "      <td>0</td>\n",
              "      <td>0</td>\n",
              "      <td>0</td>\n",
              "      <td>0</td>\n",
              "      <td>0</td>\n",
              "      <td>1</td>\n",
              "      <td>0</td>\n",
              "      <td>0</td>\n",
              "      <td>0</td>\n",
              "      <td>0</td>\n",
              "      <td>0</td>\n",
              "    </tr>\n",
              "    <tr>\n",
              "      <th>1</th>\n",
              "      <td>2.189</td>\n",
              "      <td>0.580</td>\n",
              "      <td>0.863</td>\n",
              "      <td>1.348</td>\n",
              "      <td>3.115</td>\n",
              "      <td>1</td>\n",
              "      <td>0</td>\n",
              "      <td>0</td>\n",
              "      <td>0</td>\n",
              "      <td>0</td>\n",
              "      <td>1</td>\n",
              "      <td>0</td>\n",
              "      <td>0</td>\n",
              "      <td>0</td>\n",
              "      <td>0</td>\n",
              "      <td>0</td>\n",
              "      <td>0</td>\n",
              "    </tr>\n",
              "    <tr>\n",
              "      <th>2</th>\n",
              "      <td>2.125</td>\n",
              "      <td>0.638</td>\n",
              "      <td>0.831</td>\n",
              "      <td>1.348</td>\n",
              "      <td>3.531</td>\n",
              "      <td>1</td>\n",
              "      <td>0</td>\n",
              "      <td>0</td>\n",
              "      <td>0</td>\n",
              "      <td>0</td>\n",
              "      <td>1</td>\n",
              "      <td>0</td>\n",
              "      <td>0</td>\n",
              "      <td>0</td>\n",
              "      <td>0</td>\n",
              "      <td>0</td>\n",
              "      <td>0</td>\n",
              "    </tr>\n",
              "    <tr>\n",
              "      <th>3</th>\n",
              "      <td>3.027</td>\n",
              "      <td>0.331</td>\n",
              "      <td>1.472</td>\n",
              "      <td>1.807</td>\n",
              "      <td>3.510</td>\n",
              "      <td>0</td>\n",
              "      <td>1</td>\n",
              "      <td>0</td>\n",
              "      <td>0</td>\n",
              "      <td>0</td>\n",
              "      <td>1</td>\n",
              "      <td>0</td>\n",
              "      <td>0</td>\n",
              "      <td>0</td>\n",
              "      <td>0</td>\n",
              "      <td>0</td>\n",
              "      <td>0</td>\n",
              "    </tr>\n",
              "    <tr>\n",
              "      <th>4</th>\n",
              "      <td>2.094</td>\n",
              "      <td>0.827</td>\n",
              "      <td>0.860</td>\n",
              "      <td>1.886</td>\n",
              "      <td>5.390</td>\n",
              "      <td>1</td>\n",
              "      <td>0</td>\n",
              "      <td>0</td>\n",
              "      <td>0</td>\n",
              "      <td>0</td>\n",
              "      <td>1</td>\n",
              "      <td>0</td>\n",
              "      <td>0</td>\n",
              "      <td>0</td>\n",
              "      <td>0</td>\n",
              "      <td>0</td>\n",
              "      <td>0</td>\n",
              "    </tr>\n",
              "    <tr>\n",
              "      <th>...</th>\n",
              "      <td>...</td>\n",
              "      <td>...</td>\n",
              "      <td>...</td>\n",
              "      <td>...</td>\n",
              "      <td>...</td>\n",
              "      <td>...</td>\n",
              "      <td>...</td>\n",
              "      <td>...</td>\n",
              "      <td>...</td>\n",
              "      <td>...</td>\n",
              "      <td>...</td>\n",
              "      <td>...</td>\n",
              "      <td>...</td>\n",
              "      <td>...</td>\n",
              "      <td>...</td>\n",
              "      <td>...</td>\n",
              "      <td>...</td>\n",
              "    </tr>\n",
              "    <tr>\n",
              "      <th>903</th>\n",
              "      <td>2.801</td>\n",
              "      <td>0.728</td>\n",
              "      <td>2.226</td>\n",
              "      <td>0.736</td>\n",
              "      <td>3.109</td>\n",
              "      <td>1</td>\n",
              "      <td>0</td>\n",
              "      <td>0</td>\n",
              "      <td>0</td>\n",
              "      <td>0</td>\n",
              "      <td>0</td>\n",
              "      <td>0</td>\n",
              "      <td>1</td>\n",
              "      <td>0</td>\n",
              "      <td>0</td>\n",
              "      <td>0</td>\n",
              "      <td>0</td>\n",
              "    </tr>\n",
              "    <tr>\n",
              "      <th>904</th>\n",
              "      <td>3.652</td>\n",
              "      <td>0.872</td>\n",
              "      <td>0.867</td>\n",
              "      <td>3.983</td>\n",
              "      <td>4.040</td>\n",
              "      <td>0</td>\n",
              "      <td>0</td>\n",
              "      <td>1</td>\n",
              "      <td>0</td>\n",
              "      <td>0</td>\n",
              "      <td>0</td>\n",
              "      <td>0</td>\n",
              "      <td>0</td>\n",
              "      <td>1</td>\n",
              "      <td>0</td>\n",
              "      <td>0</td>\n",
              "      <td>0</td>\n",
              "    </tr>\n",
              "    <tr>\n",
              "      <th>905</th>\n",
              "      <td>3.763</td>\n",
              "      <td>0.916</td>\n",
              "      <td>0.878</td>\n",
              "      <td>2.918</td>\n",
              "      <td>4.818</td>\n",
              "      <td>1</td>\n",
              "      <td>0</td>\n",
              "      <td>0</td>\n",
              "      <td>0</td>\n",
              "      <td>0</td>\n",
              "      <td>0</td>\n",
              "      <td>0</td>\n",
              "      <td>0</td>\n",
              "      <td>0</td>\n",
              "      <td>0</td>\n",
              "      <td>0</td>\n",
              "      <td>1</td>\n",
              "    </tr>\n",
              "    <tr>\n",
              "      <th>906</th>\n",
              "      <td>2.831</td>\n",
              "      <td>1.393</td>\n",
              "      <td>1.077</td>\n",
              "      <td>0.906</td>\n",
              "      <td>5.317</td>\n",
              "      <td>1</td>\n",
              "      <td>0</td>\n",
              "      <td>0</td>\n",
              "      <td>0</td>\n",
              "      <td>0</td>\n",
              "      <td>0</td>\n",
              "      <td>1</td>\n",
              "      <td>0</td>\n",
              "      <td>0</td>\n",
              "      <td>0</td>\n",
              "      <td>0</td>\n",
              "      <td>0</td>\n",
              "    </tr>\n",
              "    <tr>\n",
              "      <th>907</th>\n",
              "      <td>4.057</td>\n",
              "      <td>1.032</td>\n",
              "      <td>1.183</td>\n",
              "      <td>4.754</td>\n",
              "      <td>8.201</td>\n",
              "      <td>0</td>\n",
              "      <td>1</td>\n",
              "      <td>0</td>\n",
              "      <td>0</td>\n",
              "      <td>0</td>\n",
              "      <td>0</td>\n",
              "      <td>0</td>\n",
              "      <td>0</td>\n",
              "      <td>1</td>\n",
              "      <td>0</td>\n",
              "      <td>0</td>\n",
              "      <td>0</td>\n",
              "    </tr>\n",
              "  </tbody>\n",
              "</table>\n",
              "<p>908 rows × 17 columns</p>\n",
              "</div>"
            ],
            "text/plain": [
              "      CIC0  SM1_Dz  GATS1i  MLOGP  ...  NdssC_3  NdssC_4  NdssC_5  NdssC_6\n",
              "0    3.260   0.829   1.676  1.453  ...        0        0        0        0\n",
              "1    2.189   0.580   0.863  1.348  ...        0        0        0        0\n",
              "2    2.125   0.638   0.831  1.348  ...        0        0        0        0\n",
              "3    3.027   0.331   1.472  1.807  ...        0        0        0        0\n",
              "4    2.094   0.827   0.860  1.886  ...        0        0        0        0\n",
              "..     ...     ...     ...    ...  ...      ...      ...      ...      ...\n",
              "903  2.801   0.728   2.226  0.736  ...        0        0        0        0\n",
              "904  3.652   0.872   0.867  3.983  ...        1        0        0        0\n",
              "905  3.763   0.916   0.878  2.918  ...        0        0        0        1\n",
              "906  2.831   1.393   1.077  0.906  ...        0        0        0        0\n",
              "907  4.057   1.032   1.183  4.754  ...        1        0        0        0\n",
              "\n",
              "[908 rows x 17 columns]"
            ]
          },
          "metadata": {
            "tags": []
          },
          "execution_count": 3
        }
      ]
    },
    {
      "cell_type": "code",
      "metadata": {
        "colab": {
          "base_uri": "https://localhost:8080/"
        },
        "id": "jr89jfcjLibV",
        "outputId": "6b80ab27-6461-4a16-fc53-e436c2861420"
      },
      "source": [
        "df.info()"
      ],
      "execution_count": 4,
      "outputs": [
        {
          "output_type": "stream",
          "text": [
            "<class 'pandas.core.frame.DataFrame'>\n",
            "RangeIndex: 908 entries, 0 to 907\n",
            "Data columns (total 17 columns):\n",
            " #   Column                 Non-Null Count  Dtype  \n",
            "---  ------                 --------------  -----  \n",
            " 0   CIC0                   908 non-null    float64\n",
            " 1   SM1_Dz                 908 non-null    float64\n",
            " 2   GATS1i                 908 non-null    float64\n",
            " 3   MLOGP                  908 non-null    float64\n",
            " 4   Quantitative_response  908 non-null    float64\n",
            " 5   NdsCH_0                908 non-null    int64  \n",
            " 6   NdsCH_1                908 non-null    int64  \n",
            " 7   NdsCH_2                908 non-null    int64  \n",
            " 8   NdsCH_3                908 non-null    int64  \n",
            " 9   NdsCH_4                908 non-null    int64  \n",
            " 10  NdssC_0                908 non-null    int64  \n",
            " 11  NdssC_1                908 non-null    int64  \n",
            " 12  NdssC_2                908 non-null    int64  \n",
            " 13  NdssC_3                908 non-null    int64  \n",
            " 14  NdssC_4                908 non-null    int64  \n",
            " 15  NdssC_5                908 non-null    int64  \n",
            " 16  NdssC_6                908 non-null    int64  \n",
            "dtypes: float64(5), int64(12)\n",
            "memory usage: 120.7 KB\n"
          ],
          "name": "stdout"
        }
      ]
    },
    {
      "cell_type": "code",
      "metadata": {
        "colab": {
          "base_uri": "https://localhost:8080/"
        },
        "id": "5qHNO_wULlCD",
        "outputId": "10ec692d-b73e-4a3b-da16-26aedbceb8d3"
      },
      "source": [
        "X = df.iloc[:, :4].join(df.iloc[:, 5:]).values\n",
        "y = df.iloc[:, 4].values\n",
        "print(X)"
      ],
      "execution_count": 5,
      "outputs": [
        {
          "output_type": "stream",
          "text": [
            "[[3.26  0.829 1.676 ... 0.    0.    0.   ]\n",
            " [2.189 0.58  0.863 ... 0.    0.    0.   ]\n",
            " [2.125 0.638 0.831 ... 0.    0.    0.   ]\n",
            " ...\n",
            " [3.763 0.916 0.878 ... 0.    0.    1.   ]\n",
            " [2.831 1.393 1.077 ... 0.    0.    0.   ]\n",
            " [4.057 1.032 1.183 ... 0.    0.    0.   ]]\n"
          ],
          "name": "stdout"
        }
      ]
    },
    {
      "cell_type": "code",
      "metadata": {
        "colab": {
          "base_uri": "https://localhost:8080/"
        },
        "id": "z52VVt1GLvXv",
        "outputId": "8efa8f95-e7b2-4fb2-fe43-97211db7ccd3"
      },
      "source": [
        "print(y)"
      ],
      "execution_count": 6,
      "outputs": [
        {
          "output_type": "stream",
          "text": [
            "[3.77  3.115 3.531 3.51  5.39  1.819 3.947 3.513 4.402 3.021 3.21  2.371\n",
            " 3.919 3.03  2.736 2.157 2.413 0.898 0.45  3.733 2.976 6.535 5.643 4.629\n",
            " 4.838 4.081 3.436 3.45  1.102 4.257 5.386 3.393 1.308 3.554 2.269 4.165\n",
            " 5.896 4.829 4.59  2.092 3.665 3.56  4.805 3.174 7.899 2.67  4.016 3.857\n",
            " 5.522 4.851 3.84  4.586 5.284 3.559 4.091 4.33  3.755 4.552 3.62  4.459\n",
            " 2.827 6.38  4.786 3.861 3.262 6.297 3.546 2.92  3.203 2.283 1.559 3.47\n",
            " 4.748 2.576 5.259 4.564 4.37  0.053 2.381 2.891 1.088 3.721 3.701 6.083\n",
            " 4.628 3.7   1.842 3.396 2.99  3.573 2.271 2.085 3.822 3.29  3.84  3.979\n",
            " 3.47  3.314 4.031 4.74  4.194 3.447 2.364 3.645 2.07  2.27  3.513 2.811\n",
            " 2.832 1.639 2.016 1.651 4.097 3.123 3.231 5.052 3.572 2.436 2.567 1.795\n",
            " 5.072 2.156 1.037 1.932 2.505 1.524 3.048 5.115 2.856 4.366 4.976 2.94\n",
            " 4.538 3.391 2.692 3.825 3.206 1.78  0.533 3.299 2.914 1.18  3.168 3.446\n",
            " 3.496 4.68  3.252 2.98  3.936 5.47  1.842 0.15  3.736 3.719 1.749 3.507\n",
            " 3.979 5.363 4.396 3.984 1.02  2.973 3.182 5.055 4.822 0.33  4.819 5.219\n",
            " 5.268 3.139 2.858 4.191 4.416 3.537 4.38  1.408 2.936 8.471 5.861 5.574\n",
            " 3.852 5.244 2.548 5.276 3.924 6.379 4.705 4.96  3.766 3.641 4.108 4.42\n",
            " 5.29  2.392 3.87  5.642 4.287 4.79  4.296 6.607 3.759 3.278 3.118 3.237\n",
            " 3.267 3.933 4.486 4.305 3.927 4.35  4.809 4.499 4.65  2.604 3.629 4.07\n",
            " 2.93  3.727 3.095 6.4   2.65  2.851 4.208 3.654 3.81  0.931 3.178 6.255\n",
            " 2.732 4.448 1.086 2.586 2.117 3.955 4.278 3.112 6.897 6.424 5.78  1.05\n",
            " 3.926 6.284 3.451 3.477 4.967 5.985 6.351 6.207 4.68  4.475 3.24  5.478\n",
            " 4.62  5.048 7.045 1.307 2.149 3.025 2.425 9.612 1.771 4.603 5.311 4.713\n",
            " 4.32  4.051 1.47  2.583 2.474 4.51  3.007 2.84  4.557 3.604 6.564 4.41\n",
            " 5.38  6.113 3.374 3.109 2.451 5.395 4.109 3.25  4.767 5.012 2.739 7.809\n",
            " 4.338 4.182 1.134 5.178 3.219 3.11  3.07  2.883 4.451 2.924 5.339 2.226\n",
            " 6.5   4.732 1.234 6.233 2.107 4.47  5.678 3.046 4.92  2.782 5.229 4.737\n",
            " 4.342 7.691 4.727 3.979 5.51  6.143 2.115 5.189 5.383 4.557 5.184 4.886\n",
            " 5.434 5.632 6.317 2.74  6.525 5.82  3.889 4.095 5.052 4.368 5.568 4.458\n",
            " 3.458 5.667 4.544 6.347 2.608 5.18  3.779 5.029 4.697 4.674 4.384 7.346\n",
            " 2.395 3.638 6.54  3.38  4.961 3.603 3.842 4.116 5.73  4.38  4.182 3.841\n",
            " 3.726 4.208 4.305 8.571 4.425 3.328 3.77  4.512 5.653 3.775 3.599 3.757\n",
            " 3.623 4.22  5.63  3.1   3.298 4.064 3.691 4.635 5.472 4.577 5.147 3.112\n",
            " 5.278 4.891 4.32  4.295 3.926 8.207 4.154 3.57  1.812 5.68  2.961 6.72\n",
            " 6.484 5.039 4.169 5.393 6.314 5.087 2.44  3.588 4.508 6.018 4.854 6.023\n",
            " 5.062 3.463 5.018 7.382 4.043 4.117 3.838 4.244 5.558 4.239 6.171 4.739\n",
            " 4.215 5.262 5.933 4.811 5.19  3.656 6.047 5.999 4.136 2.069 3.297 5.303\n",
            " 2.941 5.93  3.696 5.86  4.119 6.038 4.951 6.213 3.555 4.739 6.258 6.784\n",
            " 3.751 6.569 6.882 8.132 1.153 3.36  4.227 4.269 3.782 3.854 8.169 5.63\n",
            " 4.777 3.903 5.65  5.159 6.645 6.446 4.865 5.066 3.895 2.056 3.601 4.257\n",
            " 5.002 2.286 4.96  3.598 3.608 5.277 3.513 3.387 3.141 3.528 3.18  5.307\n",
            " 4.302 3.518 1.055 5.752 3.086 3.521 3.926 3.168 2.692 3.974 2.715 2.681\n",
            " 7.429 4.424 3.815 3.662 3.481 4.224 1.231 1.301 4.539 4.075 5.104 4.513\n",
            " 1.647 7.64  4.912 4.02  5.449 3.42  3.36  4.565 2.474 4.798 5.007 4.369\n",
            " 4.938 3.397 1.969 2.551 3.075 4.263 5.05  4.61  4.469 4.559 2.12  2.263\n",
            " 4.963 4.919 3.289 3.379 4.021 4.77  4.41  6.148 4.175 5.767 5.677 3.151\n",
            " 5.318 3.007 3.742 5.341 5.466 1.999 4.247 3.874 2.983 6.483 6.064 3.884\n",
            " 3.66  3.423 0.242 3.799 5.412 5.758 3.666 3.751 3.799 3.21  6.195 6.551\n",
            " 5.352 2.264 5.385 4.762 5.541 3.025 3.651 3.569 3.22  4.286 2.745 4.423\n",
            " 2.369 3.614 3.727 5.741 6.384 2.487 3.689 3.806 1.462 5.538 2.853 5.005\n",
            " 3.483 3.991 3.812 4.664 6.72  6.006 5.591 5.083 4.33  4.947 3.917 3.661\n",
            " 3.594 4.393 4.856 3.846 5.194 4.63  3.91  3.932 5.146 3.391 3.882 3.787\n",
            " 3.097 3.078 2.445 4.796 1.897 4.906 4.473 3.459 2.126 1.68  6.652 3.131\n",
            " 4.62  3.03  2.072 3.746 6.087 5.086 4.759 2.412 4.446 3.499 3.327 5.361\n",
            " 4.737 5.308 5.001 4.672 4.181 0.534 4.54  4.093 6.077 4.132 3.133 5.251\n",
            " 4.399 4.002 3.757 2.569 4.828 2.319 4.706 4.632 0.778 0.855 0.361 5.242\n",
            " 3.487 0.841 2.725 8.604 1.885 2.647 4.396 2.601 4.51  4.703 1.777 2.458\n",
            " 2.618 2.015 5.842 7.287 6.665 3.009 3.513 3.393 9.354 4.208 3.976 4.832\n",
            " 4.404 1.121 1.589 2.217 3.502 3.402 4.004 6.04  3.561 7.607 4.862 1.81\n",
            " 5.192 3.046 5.912 4.593 6.634 4.804 2.3   1.399 3.076 2.72  2.856 3.272\n",
            " 2.375 1.063 2.925 3.061 2.693 3.828 4.44  1.911 7.017 4.184 3.246 3.841\n",
            " 4.465 3.782 2.975 7.591 0.89  3.407 2.182 1.906 4.422 3.693 5.689 2.686\n",
            " 4.691 4.551 2.737 2.953 1.691 2.928 1.817 1.305 1.352 1.474 6.16  3.213\n",
            " 3.47  2.766 2.269 3.916 4.577 5.44  3.715 5.95  4.691 5.264 4.81  3.416\n",
            " 4.611 2.495 6.923 5.372 3.845 4.384 5.485 3.971 3.92  4.984 4.171 7.849\n",
            " 4.578 4.377 6.6   4.116 5.49  5.367 4.711 5.224 4.284 5.292 2.758 2.689\n",
            " 4.732 4.89  6.416 0.6   2.501 4.421 4.988 4.499 2.537 3.568 3.731 2.939\n",
            " 6.236 6.298 3.522 4.73  3.789 4.672 4.75  4.725 4.199 4.849 4.538 4.507\n",
            " 5.518 4.668 4.322 3.448 2.904 3.861 3.959 3.53  5.107 4.809 4.44  2.838\n",
            " 3.411 3.288 4.247 5.169 2.895 5.348 4.208 3.984 3.665 4.561 4.628 2.839\n",
            " 4.262 4.141 5.354 3.365 4.023 3.325 3.811 3.897 4.23  4.194 4.353 3.753\n",
            " 3.12  3.995 4.192 3.92  4.54  4.743 4.332 1.935 4.989 5.815 5.192 6.644\n",
            " 3.698 5.105 4.05  3.487 3.937 3.408 1.748 2.014 2.859 4.084 5.939 3.835\n",
            " 3.66  3.46  3.769 4.463 4.279 2.87  3.615 3.022 3.575 2.55  3.66  5.303\n",
            " 3.242 3.345 4.416 4.239 4.638 3.415 3.441 4.59  2.661 4.282 3.919 3.35\n",
            " 5.749 8.916 3.13  6.683 8.433 3.529 6.093 2.494 3.017 6.238 6.183 3.152\n",
            " 6.254 2.964 4.803 3.109 4.04  4.818 5.317 8.201]\n"
          ],
          "name": "stdout"
        }
      ]
    },
    {
      "cell_type": "code",
      "metadata": {
        "colab": {
          "base_uri": "https://localhost:8080/"
        },
        "id": "V54zvz2jLzIn",
        "outputId": "dadfe4f6-6adf-41ad-985f-f6a6dd5916ad"
      },
      "source": [
        "from sklearn.model_selection import train_test_split\n",
        "\n",
        "X_train, X_test, y_train, y_test = train_test_split(X, y, test_size=0.30)\n",
        "\n",
        "X_train"
      ],
      "execution_count": 7,
      "outputs": [
        {
          "output_type": "execute_result",
          "data": {
            "text/plain": [
              "array([[2.928, 1.131, 0.908, ..., 0.   , 0.   , 0.   ],\n",
              "       [2.802, 0.223, 1.6  , ..., 0.   , 0.   , 0.   ],\n",
              "       [2.56 , 0.134, 1.758, ..., 0.   , 0.   , 0.   ],\n",
              "       ...,\n",
              "       [2.802, 0.223, 1.6  , ..., 0.   , 0.   , 0.   ],\n",
              "       [2.366, 0.405, 2.606, ..., 0.   , 0.   , 0.   ],\n",
              "       [3.249, 2.071, 1.327, ..., 0.   , 0.   , 0.   ]])"
            ]
          },
          "metadata": {
            "tags": []
          },
          "execution_count": 7
        }
      ]
    },
    {
      "cell_type": "code",
      "metadata": {
        "colab": {
          "base_uri": "https://localhost:8080/"
        },
        "id": "ol7z_FBIL3rl",
        "outputId": "e3bcb129-7869-4ac7-f7e1-aabeb846b7e1"
      },
      "source": [
        "from sklearn.preprocessing import StandardScaler\n",
        "scaler = StandardScaler()\n",
        "scaler.fit(X_train)\n",
        "\n",
        "X_train = scaler.transform(X_train)\n",
        "X_test = scaler.transform(X_test)\n",
        "X_train\n"
      ],
      "execution_count": 8,
      "outputs": [
        {
          "output_type": "execute_result",
          "data": {
            "text/plain": [
              "array([[ 0.06483469,  1.17050237, -0.94503927, ..., -0.07961874,\n",
              "        -0.03971507, -0.05620994],\n",
              "       [-0.10091358, -0.91863097,  0.80724738, ..., -0.07961874,\n",
              "        -0.03971507, -0.05620994],\n",
              "       [-0.41925551, -1.12340285,  1.20733594, ..., -0.07961874,\n",
              "        -0.03971507, -0.05620994],\n",
              "       ...,\n",
              "       [-0.10091358, -0.91863097,  0.80724738, ..., -0.07961874,\n",
              "        -0.03971507, -0.05620994],\n",
              "       [-0.67445523, -0.49988398,  3.35464674, ..., -0.07961874,\n",
              "        -0.03971507, -0.05620994],\n",
              "       [ 0.48709815,  3.33326155,  0.1159551 , ..., -0.07961874,\n",
              "        -0.03971507, -0.05620994]])"
            ]
          },
          "metadata": {
            "tags": []
          },
          "execution_count": 8
        }
      ]
    },
    {
      "cell_type": "markdown",
      "metadata": {
        "id": "35y88mwKL_i7"
      },
      "source": [
        "# Regression"
      ]
    },
    {
      "cell_type": "markdown",
      "metadata": {
        "id": "e6R1Pp1sMDqB"
      },
      "source": [
        "## Линейная регрессия\n",
        "\n",
        "[Ссылка на документацию](https://scikit-learn.org/stable/modules/generated/sklearn.linear_model.LinearRegression.html)"
      ]
    },
    {
      "cell_type": "code",
      "metadata": {
        "colab": {
          "base_uri": "https://localhost:8080/"
        },
        "id": "3Fcm3etNMOKj",
        "outputId": "34adca11-a692-4c06-cae3-afa83a8b2fbb"
      },
      "source": [
        "from sklearn.linear_model import LinearRegression\n",
        "lreg = LinearRegression().fit(X_train, y_train)\n",
        "y_pred = lreg.predict(X_test)\n",
        "\n",
        "model_score = lreg.score(X_test,y_test)\n",
        "r_square = metrics.r2_score(y_test, y_pred)\n",
        "mse = metrics.mean_squared_error(y_test, y_pred)\n",
        "mae = metrics.mean_absolute_error(y_test, y_pred)\n",
        "\n",
        "\n",
        "print(\"Model Score            : \", model_score)\n",
        "print(\"R Square               : \", r_square)\n",
        "print(\"Mean Squared Error     : \", mse)\n",
        "print(\"Root Mean Squared Error: \", mse**(1/2))\n",
        "print(\"Mean Absolute Error    : \", mae)\n"
      ],
      "execution_count": 11,
      "outputs": [
        {
          "output_type": "stream",
          "text": [
            "Model Score            :  0.6065060743458894\n",
            "R Square               :  0.6065060743458894\n",
            "Mean Squared Error     :  0.6955872638487465\n",
            "Root Mean Squared Error:  0.8340187431039824\n",
            "Mean Absolute Error    :  0.6316603827903234\n"
          ],
          "name": "stdout"
        }
      ]
    },
    {
      "cell_type": "markdown",
      "metadata": {
        "id": "zIuKN5_4VwSO"
      },
      "source": [
        "## Регрессия дерева решений\n",
        "\n",
        "[Ссылка на документацию](https://scikit-learn.org/stable/modules/generated/sklearn.tree.DecisionTreeRegressor.html)"
      ]
    },
    {
      "cell_type": "code",
      "metadata": {
        "colab": {
          "base_uri": "https://localhost:8080/"
        },
        "id": "HwZvOSUBV6K5",
        "outputId": "14eb1fe6-c976-4247-d02f-347c9f9e545c"
      },
      "source": [
        "from sklearn.tree import DecisionTreeRegressor\n",
        "\n",
        "clf = GridSearchCV(DecisionTreeRegressor(), {'max_depth': range(2,10,1)})\n",
        "\n",
        "clf.fit(X_train, y_train)\n",
        "\n",
        "clf.best_params_"
      ],
      "execution_count": 12,
      "outputs": [
        {
          "output_type": "execute_result",
          "data": {
            "text/plain": [
              "{'max_depth': 4}"
            ]
          },
          "metadata": {
            "tags": []
          },
          "execution_count": 12
        }
      ]
    },
    {
      "cell_type": "code",
      "metadata": {
        "colab": {
          "base_uri": "https://localhost:8080/"
        },
        "id": "Ljfg2k9JV-Vf",
        "outputId": "a2526c8e-20a8-4e3a-cf6d-3d90f9a5df3d"
      },
      "source": [
        "dtr = DecisionTreeRegressor(max_depth=4).fit(X_train, y_train)\n",
        "y_pred = dtr.predict(X_test)\n",
        "\n",
        "\n",
        "model_score = dtr.score(X_test,y_test)\n",
        "r_square = metrics.r2_score(y_test, y_pred)\n",
        "mse = metrics.mean_squared_error(y_test, y_pred)\n",
        "mae = metrics.mean_absolute_error(y_test, y_pred)\n",
        "\n",
        "print(\"Model Score            : \", model_score)\n",
        "print(\"R Square               : \", r_square)\n",
        "print(\"Mean Squared Error     : \", mse)\n",
        "print(\"Root Mean Squared Error: \", mse**(1/2))\n",
        "print(\"Mean Absolute Error    : \", mae)\n"
      ],
      "execution_count": 17,
      "outputs": [
        {
          "output_type": "stream",
          "text": [
            "Model Score            :  0.45926019590741374\n",
            "R Square               :  0.45926019590741374\n",
            "Mean Squared Error     :  0.9558768160337421\n",
            "Root Mean Squared Error:  0.9776895294692186\n",
            "Mean Absolute Error    :  0.7518330181498437\n"
          ],
          "name": "stdout"
        }
      ]
    },
    {
      "cell_type": "markdown",
      "metadata": {
        "id": "GfpgN1wnWVxc"
      },
      "source": [
        "## LASSO \n",
        "[Сслыка на документацию](https://scikit-learn.org/stable/modules/generated/sklearn.linear_model.Lasso.html)"
      ]
    },
    {
      "cell_type": "code",
      "metadata": {
        "colab": {
          "base_uri": "https://localhost:8080/"
        },
        "id": "qCW1eYlIWahQ",
        "outputId": "77315031-8d48-479b-9126-bae5824e57d4"
      },
      "source": [
        "from sklearn.linear_model import Lasso\n",
        "ls = Lasso().fit(X_train, y_train)\n",
        "y_pred = ls.predict(X_test)\n",
        "\n",
        "model_score = ls.score(X_test,y_test)\n",
        "r_square = metrics.r2_score(y_test, y_pred)\n",
        "mse = metrics.mean_squared_error(y_test, y_pred)\n",
        "mae = metrics.mean_absolute_error(y_test, y_pred)\n",
        "\n",
        "\n",
        "print(\"Model Score            : \", model_score)\n",
        "print(\"R Square               : \", r_square)\n",
        "print(\"Mean Squared Error     : \", mse)\n",
        "print(\"Root Mean Squared Error: \", mse**(1/2))\n",
        "print(\"Mean Absolute Error    : \", mae)"
      ],
      "execution_count": 18,
      "outputs": [
        {
          "output_type": "stream",
          "text": [
            "Model Score            :  -0.011313544369783157\n",
            "R Square               :  -0.011313544369783157\n",
            "Mean Squared Error     :  1.7877196453591728\n",
            "Root Mean Squared Error:  1.3370563358958263\n",
            "Mean Absolute Error    :  1.0307686481497507\n"
          ],
          "name": "stdout"
        }
      ]
    },
    {
      "cell_type": "markdown",
      "metadata": {
        "id": "eSHBiwWpWnoQ"
      },
      "source": [
        "## Гребневая регрессия\n",
        "[Ссылка на документацию](https://scikit-learn.org/stable/modules/generated/sklearn.linear_model.Ridge.html)"
      ]
    },
    {
      "cell_type": "code",
      "metadata": {
        "colab": {
          "base_uri": "https://localhost:8080/"
        },
        "id": "NY5afbN3WsO4",
        "outputId": "8a17d119-d763-4678-bbf5-15ff376e2e59"
      },
      "source": [
        "from sklearn.linear_model import Ridge\n",
        "Rid = Ridge().fit(X_train, y_train)\n",
        "y_pred = Rid.predict(X_test)\n",
        "\n",
        "model_score = Rid.score(X_test,y_test)\n",
        "r_square = metrics.r2_score(y_test, y_pred)\n",
        "mse = metrics.mean_squared_error(y_test, y_pred)\n",
        "mae = metrics.mean_absolute_error(y_test, y_pred)\n",
        "\n",
        "\n",
        "print(\"Model Score            : \", model_score)\n",
        "print(\"R Square               : \", r_square)\n",
        "print(\"Mean Squared Error     : \", mse)\n",
        "print(\"Root Mean Squared Error: \", mse**(1/2))\n",
        "print(\"Mean Absolute Error    : \", mae)"
      ],
      "execution_count": 19,
      "outputs": [
        {
          "output_type": "stream",
          "text": [
            "Model Score            :  0.6099218994645084\n",
            "R Square               :  0.6099218994645084\n",
            "Mean Squared Error     :  0.6895490398937101\n",
            "Root Mean Squared Error:  0.8303908958398509\n",
            "Mean Absolute Error    :  0.628129001720208\n"
          ],
          "name": "stdout"
        }
      ]
    },
    {
      "cell_type": "markdown",
      "metadata": {
        "id": "wW3q2iDEWxeb"
      },
      "source": [
        "## Elastic Net регрессия\n",
        "[Ссылка на документацию](https://scikit-learn.org/stable/modules/generated/sklearn.linear_model.ElasticNet.html)"
      ]
    },
    {
      "cell_type": "code",
      "metadata": {
        "colab": {
          "base_uri": "https://localhost:8080/"
        },
        "id": "MgH8-QvyW2Jm",
        "outputId": "b279cdde-381b-4fc9-ecfe-c7bb58270333"
      },
      "source": [
        "from sklearn.linear_model import ElasticNet\n",
        "Rln = ElasticNet().fit(X_train, y_train)\n",
        "y_pred = Rln.predict(X_test)\n",
        "\n",
        "model_score = Rln.score(X_test,y_test)\n",
        "r_square = metrics.r2_score(y_test, y_pred)\n",
        "mse = metrics.mean_squared_error(y_test, y_pred)\n",
        "mae = metrics.mean_absolute_error(y_test, y_pred)\n",
        "\n",
        "\n",
        "print(\"Model Score            : \", model_score)\n",
        "print(\"R Square               : \", r_square)\n",
        "print(\"Mean Squared Error     : \", mse)\n",
        "print(\"Root Mean Squared Error: \", mse**(1/2))\n",
        "print(\"Mean Absolute Error    : \", mae)"
      ],
      "execution_count": 20,
      "outputs": [
        {
          "output_type": "stream",
          "text": [
            "Model Score            :  0.2758387244605397\n",
            "R Square               :  0.2758387244605397\n",
            "Mean Squared Error     :  1.2801147041860297\n",
            "Root Mean Squared Error:  1.1314215413302107\n",
            "Mean Absolute Error    :  0.8606665255436834\n"
          ],
          "name": "stdout"
        }
      ]
    },
    {
      "cell_type": "markdown",
      "metadata": {
        "id": "tGUkEHYHF8rs"
      },
      "source": [
        "# Вывод"
      ]
    },
    {
      "cell_type": "markdown",
      "metadata": {
        "id": "76pwSnc4F_FS"
      },
      "source": [
        "Линейная и гребневая регрессия имеют наибольшую точность из представленных. Однако все представленные методы имеют досточно низкую точность из-за разброса данных"
      ]
    }
  ]
}