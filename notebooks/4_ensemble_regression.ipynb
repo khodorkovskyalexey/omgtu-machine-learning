{
  "nbformat": 4,
  "nbformat_minor": 0,
  "metadata": {
    "colab": {
      "name": "4_ensemble_regression.ipynb",
      "provenance": []
    },
    "kernelspec": {
      "name": "python3",
      "display_name": "Python 3"
    },
    "language_info": {
      "name": "python"
    }
  },
  "cells": [
    {
      "cell_type": "markdown",
      "metadata": {
        "id": "N_xN5g8mNuf_"
      },
      "source": [
        "#Подготовка данных"
      ]
    },
    {
      "cell_type": "code",
      "metadata": {
        "id": "AVf9JKnNNx5J"
      },
      "source": [
        "import pandas as pd\n",
        "import numpy as np\n",
        "from sklearn import metrics\n",
        "from sklearn import ensemble"
      ],
      "execution_count": 149,
      "outputs": []
    },
    {
      "cell_type": "code",
      "metadata": {
        "colab": {
          "base_uri": "https://localhost:8080/",
          "height": 439
        },
        "id": "DINfk6puNzZ4",
        "outputId": "5b210454-4078-48da-f69f-27a3ee6fd8d2"
      },
      "source": [
        "df = pd.DataFrame\n",
        "df = pd.read_csv('../data/qsar/qsar_fish_toxicity_preprocessed.csv' )\n",
        "del df['Unnamed: 0']\n",
        "df"
      ],
      "execution_count": 150,
      "outputs": [
        {
          "output_type": "execute_result",
          "data": {
            "text/html": [
              "<div>\n",
              "<style scoped>\n",
              "    .dataframe tbody tr th:only-of-type {\n",
              "        vertical-align: middle;\n",
              "    }\n",
              "\n",
              "    .dataframe tbody tr th {\n",
              "        vertical-align: top;\n",
              "    }\n",
              "\n",
              "    .dataframe thead th {\n",
              "        text-align: right;\n",
              "    }\n",
              "</style>\n",
              "<table border=\"1\" class=\"dataframe\">\n",
              "  <thead>\n",
              "    <tr style=\"text-align: right;\">\n",
              "      <th></th>\n",
              "      <th>CIC0</th>\n",
              "      <th>SM1_Dz</th>\n",
              "      <th>GATS1i</th>\n",
              "      <th>MLOGP</th>\n",
              "      <th>Quantitative_response</th>\n",
              "      <th>NdsCH_0</th>\n",
              "      <th>NdsCH_1</th>\n",
              "      <th>NdsCH_2</th>\n",
              "      <th>NdsCH_3</th>\n",
              "      <th>NdsCH_4</th>\n",
              "      <th>NdssC_0</th>\n",
              "      <th>NdssC_1</th>\n",
              "      <th>NdssC_2</th>\n",
              "      <th>NdssC_3</th>\n",
              "      <th>NdssC_4</th>\n",
              "      <th>NdssC_5</th>\n",
              "      <th>NdssC_6</th>\n",
              "    </tr>\n",
              "  </thead>\n",
              "  <tbody>\n",
              "    <tr>\n",
              "      <th>0</th>\n",
              "      <td>3.260</td>\n",
              "      <td>0.829</td>\n",
              "      <td>1.676</td>\n",
              "      <td>1.453</td>\n",
              "      <td>3.770</td>\n",
              "      <td>1</td>\n",
              "      <td>0</td>\n",
              "      <td>0</td>\n",
              "      <td>0</td>\n",
              "      <td>0</td>\n",
              "      <td>0</td>\n",
              "      <td>1</td>\n",
              "      <td>0</td>\n",
              "      <td>0</td>\n",
              "      <td>0</td>\n",
              "      <td>0</td>\n",
              "      <td>0</td>\n",
              "    </tr>\n",
              "    <tr>\n",
              "      <th>1</th>\n",
              "      <td>2.189</td>\n",
              "      <td>0.580</td>\n",
              "      <td>0.863</td>\n",
              "      <td>1.348</td>\n",
              "      <td>3.115</td>\n",
              "      <td>1</td>\n",
              "      <td>0</td>\n",
              "      <td>0</td>\n",
              "      <td>0</td>\n",
              "      <td>0</td>\n",
              "      <td>1</td>\n",
              "      <td>0</td>\n",
              "      <td>0</td>\n",
              "      <td>0</td>\n",
              "      <td>0</td>\n",
              "      <td>0</td>\n",
              "      <td>0</td>\n",
              "    </tr>\n",
              "    <tr>\n",
              "      <th>2</th>\n",
              "      <td>2.125</td>\n",
              "      <td>0.638</td>\n",
              "      <td>0.831</td>\n",
              "      <td>1.348</td>\n",
              "      <td>3.531</td>\n",
              "      <td>1</td>\n",
              "      <td>0</td>\n",
              "      <td>0</td>\n",
              "      <td>0</td>\n",
              "      <td>0</td>\n",
              "      <td>1</td>\n",
              "      <td>0</td>\n",
              "      <td>0</td>\n",
              "      <td>0</td>\n",
              "      <td>0</td>\n",
              "      <td>0</td>\n",
              "      <td>0</td>\n",
              "    </tr>\n",
              "    <tr>\n",
              "      <th>3</th>\n",
              "      <td>3.027</td>\n",
              "      <td>0.331</td>\n",
              "      <td>1.472</td>\n",
              "      <td>1.807</td>\n",
              "      <td>3.510</td>\n",
              "      <td>0</td>\n",
              "      <td>1</td>\n",
              "      <td>0</td>\n",
              "      <td>0</td>\n",
              "      <td>0</td>\n",
              "      <td>1</td>\n",
              "      <td>0</td>\n",
              "      <td>0</td>\n",
              "      <td>0</td>\n",
              "      <td>0</td>\n",
              "      <td>0</td>\n",
              "      <td>0</td>\n",
              "    </tr>\n",
              "    <tr>\n",
              "      <th>4</th>\n",
              "      <td>2.094</td>\n",
              "      <td>0.827</td>\n",
              "      <td>0.860</td>\n",
              "      <td>1.886</td>\n",
              "      <td>5.390</td>\n",
              "      <td>1</td>\n",
              "      <td>0</td>\n",
              "      <td>0</td>\n",
              "      <td>0</td>\n",
              "      <td>0</td>\n",
              "      <td>1</td>\n",
              "      <td>0</td>\n",
              "      <td>0</td>\n",
              "      <td>0</td>\n",
              "      <td>0</td>\n",
              "      <td>0</td>\n",
              "      <td>0</td>\n",
              "    </tr>\n",
              "    <tr>\n",
              "      <th>...</th>\n",
              "      <td>...</td>\n",
              "      <td>...</td>\n",
              "      <td>...</td>\n",
              "      <td>...</td>\n",
              "      <td>...</td>\n",
              "      <td>...</td>\n",
              "      <td>...</td>\n",
              "      <td>...</td>\n",
              "      <td>...</td>\n",
              "      <td>...</td>\n",
              "      <td>...</td>\n",
              "      <td>...</td>\n",
              "      <td>...</td>\n",
              "      <td>...</td>\n",
              "      <td>...</td>\n",
              "      <td>...</td>\n",
              "      <td>...</td>\n",
              "    </tr>\n",
              "    <tr>\n",
              "      <th>903</th>\n",
              "      <td>2.801</td>\n",
              "      <td>0.728</td>\n",
              "      <td>2.226</td>\n",
              "      <td>0.736</td>\n",
              "      <td>3.109</td>\n",
              "      <td>1</td>\n",
              "      <td>0</td>\n",
              "      <td>0</td>\n",
              "      <td>0</td>\n",
              "      <td>0</td>\n",
              "      <td>0</td>\n",
              "      <td>0</td>\n",
              "      <td>1</td>\n",
              "      <td>0</td>\n",
              "      <td>0</td>\n",
              "      <td>0</td>\n",
              "      <td>0</td>\n",
              "    </tr>\n",
              "    <tr>\n",
              "      <th>904</th>\n",
              "      <td>3.652</td>\n",
              "      <td>0.872</td>\n",
              "      <td>0.867</td>\n",
              "      <td>3.983</td>\n",
              "      <td>4.040</td>\n",
              "      <td>0</td>\n",
              "      <td>0</td>\n",
              "      <td>1</td>\n",
              "      <td>0</td>\n",
              "      <td>0</td>\n",
              "      <td>0</td>\n",
              "      <td>0</td>\n",
              "      <td>0</td>\n",
              "      <td>1</td>\n",
              "      <td>0</td>\n",
              "      <td>0</td>\n",
              "      <td>0</td>\n",
              "    </tr>\n",
              "    <tr>\n",
              "      <th>905</th>\n",
              "      <td>3.763</td>\n",
              "      <td>0.916</td>\n",
              "      <td>0.878</td>\n",
              "      <td>2.918</td>\n",
              "      <td>4.818</td>\n",
              "      <td>1</td>\n",
              "      <td>0</td>\n",
              "      <td>0</td>\n",
              "      <td>0</td>\n",
              "      <td>0</td>\n",
              "      <td>0</td>\n",
              "      <td>0</td>\n",
              "      <td>0</td>\n",
              "      <td>0</td>\n",
              "      <td>0</td>\n",
              "      <td>0</td>\n",
              "      <td>1</td>\n",
              "    </tr>\n",
              "    <tr>\n",
              "      <th>906</th>\n",
              "      <td>2.831</td>\n",
              "      <td>1.393</td>\n",
              "      <td>1.077</td>\n",
              "      <td>0.906</td>\n",
              "      <td>5.317</td>\n",
              "      <td>1</td>\n",
              "      <td>0</td>\n",
              "      <td>0</td>\n",
              "      <td>0</td>\n",
              "      <td>0</td>\n",
              "      <td>0</td>\n",
              "      <td>1</td>\n",
              "      <td>0</td>\n",
              "      <td>0</td>\n",
              "      <td>0</td>\n",
              "      <td>0</td>\n",
              "      <td>0</td>\n",
              "    </tr>\n",
              "    <tr>\n",
              "      <th>907</th>\n",
              "      <td>4.057</td>\n",
              "      <td>1.032</td>\n",
              "      <td>1.183</td>\n",
              "      <td>4.754</td>\n",
              "      <td>8.201</td>\n",
              "      <td>0</td>\n",
              "      <td>1</td>\n",
              "      <td>0</td>\n",
              "      <td>0</td>\n",
              "      <td>0</td>\n",
              "      <td>0</td>\n",
              "      <td>0</td>\n",
              "      <td>0</td>\n",
              "      <td>1</td>\n",
              "      <td>0</td>\n",
              "      <td>0</td>\n",
              "      <td>0</td>\n",
              "    </tr>\n",
              "  </tbody>\n",
              "</table>\n",
              "<p>908 rows × 17 columns</p>\n",
              "</div>"
            ],
            "text/plain": [
              "      CIC0  SM1_Dz  GATS1i  MLOGP  ...  NdssC_3  NdssC_4  NdssC_5  NdssC_6\n",
              "0    3.260   0.829   1.676  1.453  ...        0        0        0        0\n",
              "1    2.189   0.580   0.863  1.348  ...        0        0        0        0\n",
              "2    2.125   0.638   0.831  1.348  ...        0        0        0        0\n",
              "3    3.027   0.331   1.472  1.807  ...        0        0        0        0\n",
              "4    2.094   0.827   0.860  1.886  ...        0        0        0        0\n",
              "..     ...     ...     ...    ...  ...      ...      ...      ...      ...\n",
              "903  2.801   0.728   2.226  0.736  ...        0        0        0        0\n",
              "904  3.652   0.872   0.867  3.983  ...        1        0        0        0\n",
              "905  3.763   0.916   0.878  2.918  ...        0        0        0        1\n",
              "906  2.831   1.393   1.077  0.906  ...        0        0        0        0\n",
              "907  4.057   1.032   1.183  4.754  ...        1        0        0        0\n",
              "\n",
              "[908 rows x 17 columns]"
            ]
          },
          "metadata": {
            "tags": []
          },
          "execution_count": 150
        }
      ]
    },
    {
      "cell_type": "code",
      "metadata": {
        "colab": {
          "base_uri": "https://localhost:8080/"
        },
        "id": "hjS0L-1aOBUz",
        "outputId": "14f7963b-dd46-47aa-f044-ccc628ce41fe"
      },
      "source": [
        "df.info()"
      ],
      "execution_count": 151,
      "outputs": [
        {
          "output_type": "stream",
          "text": [
            "<class 'pandas.core.frame.DataFrame'>\n",
            "RangeIndex: 908 entries, 0 to 907\n",
            "Data columns (total 17 columns):\n",
            " #   Column                 Non-Null Count  Dtype  \n",
            "---  ------                 --------------  -----  \n",
            " 0   CIC0                   908 non-null    float64\n",
            " 1   SM1_Dz                 908 non-null    float64\n",
            " 2   GATS1i                 908 non-null    float64\n",
            " 3   MLOGP                  908 non-null    float64\n",
            " 4   Quantitative_response  908 non-null    float64\n",
            " 5   NdsCH_0                908 non-null    int64  \n",
            " 6   NdsCH_1                908 non-null    int64  \n",
            " 7   NdsCH_2                908 non-null    int64  \n",
            " 8   NdsCH_3                908 non-null    int64  \n",
            " 9   NdsCH_4                908 non-null    int64  \n",
            " 10  NdssC_0                908 non-null    int64  \n",
            " 11  NdssC_1                908 non-null    int64  \n",
            " 12  NdssC_2                908 non-null    int64  \n",
            " 13  NdssC_3                908 non-null    int64  \n",
            " 14  NdssC_4                908 non-null    int64  \n",
            " 15  NdssC_5                908 non-null    int64  \n",
            " 16  NdssC_6                908 non-null    int64  \n",
            "dtypes: float64(5), int64(12)\n",
            "memory usage: 120.7 KB\n"
          ],
          "name": "stdout"
        }
      ]
    },
    {
      "cell_type": "code",
      "metadata": {
        "colab": {
          "base_uri": "https://localhost:8080/"
        },
        "id": "PPtTX64cOTgc",
        "outputId": "68aaeaaf-d9be-4ffe-cf7a-b0fee1613f96"
      },
      "source": [
        "X = df.iloc[:, :3].join(df.iloc[:, 4]).values\n",
        "y = df.iloc[:, 3].values\n",
        "print(X)"
      ],
      "execution_count": 187,
      "outputs": [
        {
          "output_type": "stream",
          "text": [
            "[[3.26  0.829 1.676 3.77 ]\n",
            " [2.189 0.58  0.863 3.115]\n",
            " [2.125 0.638 0.831 3.531]\n",
            " ...\n",
            " [3.763 0.916 0.878 4.818]\n",
            " [2.831 1.393 1.077 5.317]\n",
            " [4.057 1.032 1.183 8.201]]\n"
          ],
          "name": "stdout"
        }
      ]
    },
    {
      "cell_type": "code",
      "metadata": {
        "colab": {
          "base_uri": "https://localhost:8080/"
        },
        "id": "jq8DGfKfOV9w",
        "outputId": "c98c6837-17c1-4e7d-f2bb-6019721134c0"
      },
      "source": [
        "print(y)"
      ],
      "execution_count": 188,
      "outputs": [
        {
          "output_type": "stream",
          "text": [
            "[ 1.453  1.348  1.348  1.807  1.886  0.706  2.942  2.851  2.942  1.591\n",
            "  1.769  1.591  1.769  1.859  0.981  0.143  1.199 -0.115  1.107  1.807\n",
            " -1.169  3.988  4.068  3.395  2.526  3.112  2.51   2.591 -0.937  1.748\n",
            "  0.024  2.837 -0.521  2.242  1.06   2.813  5.089  3.562  2.066  3.492\n",
            "  2.274  2.102  2.37   1.533  3.906  1.565  0.787  2.193  2.217  2.849\n",
            "  2.642  2.642  3.795  2.296  2.942  3.21   1.859  3.478  2.127  2.127\n",
            "  1.859  0.411  1.619  0.408  2.026  0.094  1.672  1.817  0.347  0.347\n",
            "  0.202  0.094  0.202 -1.053  0.202  0.202  0.202 -1.053 -1.306 -0.386\n",
            "  0.706  2.274  3.291  2.05   6.203  1.869  1.064 -1.96   1.492  0.479\n",
            "  1.442  1.587  2.942  1.859  3.21   2.127  1.859  0.893  0.057  4.063\n",
            "  3.045  2.608  0.846  2.876  1.195  1.05   1.506  0.846  2.248 -0.063\n",
            "  0.846 -0.063  2.06   0.996  0.996  2.604  2.419  0.8    0.548 -0.534\n",
            " -0.786 -0.534 -0.128  0.8    0.156  0.408  0.156  3.291  1.795 -0.45\n",
            "  2.849  1.795  3.516  2.604  1.209  1.064 -0.226 -0.081 -0.081  3.124\n",
            "  0.468 -0.544  2.021  2.129  0.538  3.126  1.587  1.587  0.076  2.604\n",
            " -0.917 -0.917  2.604  1.94   0.454  1.94   1.795  4.673  3.186  3.186\n",
            " -0.129  1.466  3.289  3.953  3.503 -0.937  3.806  4.098  4.379  5.579\n",
            "  0.496  2.619  2.813  1.697  1.57   1.064  1.209  3.115  5.149  4.789\n",
            "  1.89   0.787  5.426  3.461  2.294  5.207  3.764  2.359  1.701  0.828\n",
            "  3.587  2.956  2.736  1.097  2.402  4.295  0.893  4.063  2.729  1.976\n",
            "  2.239  1.239  0.922  0.291  2.193  2.509  0.491  1.401  1.969  2.723\n",
            "  1.919  2.273  3.395  1.312  2.129  2.193  1.49   1.442  1.121  0.893\n",
            "  0.202  0.076  2.06   0.655  1.373 -0.473  0.434  4.379 -1.186  3.234\n",
            "  0.749  0.8    0.133  2.459  1.112  2.455  5.469  0.202  4.177  0.982\n",
            "  3.048  1.971  2.005  1.595  2.859  5.206  1.821  2.573  2.922  2.294\n",
            "  2.821  1.155  2.637  3.818  0.454  0.133  3.267  1.294  0.8    2.749\n",
            " -0.521  0.888  1.121  2.314  2.545  1.742 -1.053  0.586  0.314  3.562\n",
            "  2.226  1.373  2.06   2.274  3.574  3.503  3.467  4.912  2.242  1.467\n",
            "  1.297 -0.059  2.715  2.042  1.433  1.845  1.795  3.315  2.786  1.769\n",
            "  0.706  3.105  1.246  1.246  1.58   1.882  4.038  0.602  1.459  1.587\n",
            "  4.207  3.182  0.158  4.833  1.209  2.813  3.659 -0.297  0.057  1.313\n",
            "  2.679  2.938  2.646  4.764  4.548  2.42   4.044  4.038  0.242  2.429\n",
            "  3.11   2.345  1.661  2.459  3.374  4.19   2.359  1.467  4.207  2.459\n",
            "  2.343  2.59   3.16   2.689  3.909  1.748  2.446  3.618  2.214  4.57\n",
            "  2.481  3.806  0.655  1.57   2.2    4.416  4.416  4.76   0.874 -2.03\n",
            "  3.311  1.064  1.514  1.437  2.297  2.031  3.225  3.291  0.915  1.579\n",
            "  1.182  3.259  3.358  4.332  4.23   2.056  1.121 -0.463  3.913  3.046\n",
            "  2.726  1.117  6.515  2.51   4.234  1.06   2.481  3.386  1.042  2.433\n",
            "  1.746  2.592  2.27   1.68   3.184  3.051  2.391  2.357  1.834  4.452\n",
            "  2.994  1.564  0.314  4.431  0.652  3.109  4.651  4.017  3.19   2.931\n",
            "  3.213  2.054  1.94   1.66   1.602  1.321  1.654  3.32   2.358  0.37\n",
            "  1.878  5.361  1.759  1.851  0.215 -0.165  1.064  5.176  3.896  1.395\n",
            "  2.646  4.203  1.654  2.433  3.522  2.527  3.842  4.066  3.167 -1.169\n",
            "  1.145  2.116  1.717  3.617  2.335  3.508  1.748  4.054  3.305  4.379\n",
            "  2.841  2.371  1.145  3.109  1.953  5.339  5.472 -1.265  1.188  2.57\n",
            "  2.799  3.571  3.046  1.795  3.557  2.974  2.773 -0.197  2.702  3.661\n",
            "  3.737  3.948  0.548  3.062  2.553  1.313  1.091  2.604  2.11  -0.316\n",
            "  2.206  1.002  2.841  2.841  2.296  2.502  2.357  1.619  2.502  4.639\n",
            "  4.738  1.442  0.787  3.617  1.586  1.701  3.259  1.801  1.548  2.42\n",
            " -0.129  0.779  6.166  3.458  0.143  2.446  0.435  1.395 -0.703  0.113\n",
            "  3.026  2.352  4.639  0.489  0.226  4.579  1.748  2.51   1.886  2.102\n",
            "  2.102  2.052  1.7    2.37   1.748  1.996  3.854  2.604  1.643  1.373\n",
            "  1.587  3.478  2.081  3.291  3.291  2.529  0.562  1.294  2.492  0.575\n",
            "  1.94   1.75   1.61   2.217  2.729  1.737  1.61   4.206  2.64  -0.294\n",
            "  2.223  0.883  2.54   1.748  0.626  1.064  3.291  1.897  1.398  4.453\n",
            "  2.033 -0.241  1.569  0.757 -0.534  1.701  5.258  5.741  1.395  2.193\n",
            "  1.701  2.193  2.233  4.092  3.617  1.209  4.053  3.795  4.639  1.539\n",
            "  2.193  2.42   2.193  2.461  1.994  1.064  1.442  2.352  1.758  4.506\n",
            "  4.804  1.209 -1.358  2.242  0.8    2.904  1.94   2.239  1.701  2.239\n",
            "  3.112  2.576  4.594  4.926  4.19   2.239  1.395  2.65   1.239  1.06\n",
            "  2.461  2.573  1.748  1.515  4.234  3.11   2.239  1.395  2.239  1.61\n",
            "  1.968  1.61   1.229  1.506 -0.317  1.246 -0.41   3.237  2.048  3.315\n",
            "  1.06  -0.521  3.562  0.943  2.729  0.204  0.8    2.957  3.426  3.451\n",
            "  2.604  1.141  2.222  0.996  2.538  4.634  3.314  2.269  3.314  2.212\n",
            "  1.748 -0.172  2.278  2.51   3.318  1.272  1.237  3.377  2.463  2.688\n",
            "  1.442  0.68   4.179  0.501  3.474  2.974  0.347  0.202 -0.317  3.291\n",
            " -0.386 -0.273  0.18   4.279  0.967  2.242  2.274  0.289  3.661  2.894\n",
            "  0.087  0.087  1.239  1.271  3.987  4.804  4.235  1.807  1.701  2.357\n",
            "  4.246  1.748  2.289  1.21   3.076  0.347  0.8    1.209  2.255  2.226\n",
            "  1.95   3.118  2.213  4.268  5.934 -0.022  3.909  1.548  4.098  1.02\n",
            "  4.907  1.795 -0.172 -0.317 -0.317 -0.564  1.672  0.202 -2.884  0.8\n",
            "  0.58   1.442  0.996 -0.792  2.957  0.996  5.124  2.459  1.971  0.655\n",
            "  3.038  2.502  1.074  3.558 -0.741  3.267  1.587  1.442  2.558  3.157\n",
            "  3.374  1.737 -0.45   2.437  1.947  1.974  0.8    2.226 -0.534  0.8\n",
            "  0.655 -0.534  3.089  2.226  2.081 -0.38   0.133  2.604  2.998  4.804\n",
            "  4.878  3.762  3.306  4.436  3.105  1.622  3.563  0.888  3.903  4.658\n",
            " -0.406  0.052  2.129  3.358  2.899  3.958  2.152  1.936  2.782  2.59\n",
            "  4.633  2.577  3.618  3.618  2.209  4.091  3.018  2.859  0.43  -0.816\n",
            "  3.055  4.063  3.659 -2.089 -0.439  2.042  2.956  3.314  1.237  2.241\n",
            "  2.509  1.348  2.702  4.412  1.783  3.314  1.701  2.813  2.37   1.667\n",
            "  3.677  3.945  2.637  3.127  3.157  3.546  3.386  2.066  1.701  2.502\n",
            "  2.813  2.224  3.586  3.876  3.127  1.587  1.335  0.655  2.351  1.756\n",
            "  0.586  3.617  2.991  2.186  1.783  2.575  1.132  2.354  2.659  2.927\n",
            "  2.723  3.315  1.099  1.501  2.942  1.859  3.21   3.478  2.127  3.045\n",
            "  1.859  2.127  3.259  2.193  3.795  3.795  2.729  1.246  2.729  4.634\n",
            "  3.314  3.887  3.345  1.522  1.533  1.587  1.064  2.604  1.064  0.586\n",
            "  1.393  1.395  3.842  2.11  -0.145  0.736  2.621  2.813  3.259  2.102\n",
            "  2.102  1.887  1.391  1.49   2.241  2.005  1.701  1.701  1.61   1.886\n",
            "  3.267  2.51   2.241  0.43  -0.386  1.024  2.502  1.119  4.449  4.832\n",
            "  1.94   3.399  4.452  2.791  3.909  1.442 -1.174  1.655  3.247  1.798\n",
            "  1.317  2.288  3.148  0.736  3.983  2.918  0.906  4.754]\n"
          ],
          "name": "stdout"
        }
      ]
    },
    {
      "cell_type": "code",
      "metadata": {
        "colab": {
          "base_uri": "https://localhost:8080/"
        },
        "id": "szCqbnVKPFJI",
        "outputId": "5bbe1e46-8bb8-4d46-9ed2-948575d66c94"
      },
      "source": [
        "from sklearn.model_selection import train_test_split\n",
        "\n",
        "X_train, X_test, y_train, y_test = train_test_split(X, y, test_size=0.30)\n",
        "\n",
        "X_train"
      ],
      "execution_count": 189,
      "outputs": [
        {
          "output_type": "execute_result",
          "data": {
            "text/plain": [
              "array([[3.199, 0.56 , 2.033, 1.02 ],\n",
              "       [2.092, 1.359, 2.273, 4.796],\n",
              "       [2.834, 0.134, 1.237, 3.03 ],\n",
              "       ...,\n",
              "       [2.834, 0.134, 1.322, 2.413],\n",
              "       [1.075, 1.161, 0.865, 5.386],\n",
              "       [3.014, 0.56 , 1.781, 0.898]])"
            ]
          },
          "metadata": {
            "tags": []
          },
          "execution_count": 189
        }
      ]
    },
    {
      "cell_type": "code",
      "metadata": {
        "colab": {
          "base_uri": "https://localhost:8080/"
        },
        "id": "nWnhi8PJPJAe",
        "outputId": "db385bd5-0328-4c57-ffbd-051eb05ac208"
      },
      "source": [
        "from sklearn.preprocessing import StandardScaler\n",
        "scaler = StandardScaler()\n",
        "scaler.fit(X_train)\n",
        "\n",
        "X_train = scaler.transform(X_train)\n",
        "X_test = scaler.transform(X_test)\n",
        "X_train"
      ],
      "execution_count": 190,
      "outputs": [
        {
          "output_type": "execute_result",
          "data": {
            "text/plain": [
              "array([[ 0.43330254, -0.19687992,  1.9100526 , -2.117293  ],\n",
              "       [-1.02365827,  1.69580024,  2.52580889,  0.50288256],\n",
              "       [-0.04708652, -1.2059935 , -0.13220579, -0.72254912],\n",
              "       ...,\n",
              "       [-0.04708652, -1.2059935 ,  0.08587457, -1.15068692],\n",
              "       [-2.36216698,  1.22677562, -1.08662805,  0.91228499],\n",
              "       [ 0.18981767, -0.19687992,  1.26350849, -2.20194909]])"
            ]
          },
          "metadata": {
            "tags": []
          },
          "execution_count": 190
        }
      ]
    },
    {
      "cell_type": "markdown",
      "metadata": {
        "id": "rKQVuqGFPLH4"
      },
      "source": [
        "#Композиции алгоритмов"
      ]
    },
    {
      "cell_type": "code",
      "metadata": {
        "id": "jrBINMydPNWY"
      },
      "source": [
        "from sklearn.model_selection import GridSearchCV"
      ],
      "execution_count": 191,
      "outputs": []
    },
    {
      "cell_type": "markdown",
      "metadata": {
        "id": "Qig3ALIoPOS5"
      },
      "source": [
        "##Бэггинг"
      ]
    },
    {
      "cell_type": "code",
      "metadata": {
        "id": "CNeXaho_PRGH"
      },
      "source": [
        "from sklearn.ensemble import BaggingRegressor\n",
        "from sklearn.tree import DecisionTreeRegressor"
      ],
      "execution_count": 192,
      "outputs": []
    },
    {
      "cell_type": "code",
      "metadata": {
        "colab": {
          "base_uri": "https://localhost:8080/"
        },
        "id": "DUkfnbP3PT0G",
        "outputId": "709a5cba-a6df-44a2-9357-c04046a0e2b2"
      },
      "source": [
        "clf = GridSearchCV(DecisionTreeRegressor(), {'max_depth': range(1,20,2)})\n",
        "clf.fit(X_train, y_train)\n",
        "clf.best_params_"
      ],
      "execution_count": 193,
      "outputs": [
        {
          "output_type": "execute_result",
          "data": {
            "text/plain": [
              "{'max_depth': 5}"
            ]
          },
          "metadata": {
            "tags": []
          },
          "execution_count": 193
        }
      ]
    },
    {
      "cell_type": "code",
      "metadata": {
        "colab": {
          "base_uri": "https://localhost:8080/"
        },
        "id": "LK8fGFEsPV9T",
        "outputId": "1615f5b2-6bb2-4e77-80d3-443fe4b8f1aa"
      },
      "source": [
        "%%time\n",
        "dtr = DecisionTreeRegressor(max_depth=5)\n",
        "bgc = BaggingRegressor(dtr)\n",
        "\n",
        "bagging_parameters = {'n_estimators' : range(10, 50, 10), 'max_features' : range(1,8,1)}\n",
        "bagging = GridSearchCV(bgc, bagging_parameters)\n",
        "bagging.fit(X_train, y_train)"
      ],
      "execution_count": 195,
      "outputs": [
        {
          "output_type": "stream",
          "text": [
            "CPU times: user 4.01 s, sys: 46.5 ms, total: 4.06 s\n",
            "Wall time: 4.04 s\n"
          ],
          "name": "stdout"
        },
        {
          "output_type": "stream",
          "text": [
            "/usr/local/lib/python3.7/dist-packages/sklearn/model_selection/_validation.py:536: FitFailedWarning: Estimator fit failed. The score on this train-test partition for these parameters will be set to nan. Details: \n",
            "ValueError: max_features must be in (0, n_features]\n",
            "\n",
            "  FitFailedWarning)\n",
            "/usr/local/lib/python3.7/dist-packages/sklearn/model_selection/_validation.py:536: FitFailedWarning: Estimator fit failed. The score on this train-test partition for these parameters will be set to nan. Details: \n",
            "ValueError: max_features must be in (0, n_features]\n",
            "\n",
            "  FitFailedWarning)\n",
            "/usr/local/lib/python3.7/dist-packages/sklearn/model_selection/_validation.py:536: FitFailedWarning: Estimator fit failed. The score on this train-test partition for these parameters will be set to nan. Details: \n",
            "ValueError: max_features must be in (0, n_features]\n",
            "\n",
            "  FitFailedWarning)\n",
            "/usr/local/lib/python3.7/dist-packages/sklearn/model_selection/_validation.py:536: FitFailedWarning: Estimator fit failed. The score on this train-test partition for these parameters will be set to nan. Details: \n",
            "ValueError: max_features must be in (0, n_features]\n",
            "\n",
            "  FitFailedWarning)\n",
            "/usr/local/lib/python3.7/dist-packages/sklearn/model_selection/_validation.py:536: FitFailedWarning: Estimator fit failed. The score on this train-test partition for these parameters will be set to nan. Details: \n",
            "ValueError: max_features must be in (0, n_features]\n",
            "\n",
            "  FitFailedWarning)\n",
            "/usr/local/lib/python3.7/dist-packages/sklearn/model_selection/_validation.py:536: FitFailedWarning: Estimator fit failed. The score on this train-test partition for these parameters will be set to nan. Details: \n",
            "ValueError: max_features must be in (0, n_features]\n",
            "\n",
            "  FitFailedWarning)\n",
            "/usr/local/lib/python3.7/dist-packages/sklearn/model_selection/_validation.py:536: FitFailedWarning: Estimator fit failed. The score on this train-test partition for these parameters will be set to nan. Details: \n",
            "ValueError: max_features must be in (0, n_features]\n",
            "\n",
            "  FitFailedWarning)\n",
            "/usr/local/lib/python3.7/dist-packages/sklearn/model_selection/_validation.py:536: FitFailedWarning: Estimator fit failed. The score on this train-test partition for these parameters will be set to nan. Details: \n",
            "ValueError: max_features must be in (0, n_features]\n",
            "\n",
            "  FitFailedWarning)\n",
            "/usr/local/lib/python3.7/dist-packages/sklearn/model_selection/_validation.py:536: FitFailedWarning: Estimator fit failed. The score on this train-test partition for these parameters will be set to nan. Details: \n",
            "ValueError: max_features must be in (0, n_features]\n",
            "\n",
            "  FitFailedWarning)\n",
            "/usr/local/lib/python3.7/dist-packages/sklearn/model_selection/_validation.py:536: FitFailedWarning: Estimator fit failed. The score on this train-test partition for these parameters will be set to nan. Details: \n",
            "ValueError: max_features must be in (0, n_features]\n",
            "\n",
            "  FitFailedWarning)\n",
            "/usr/local/lib/python3.7/dist-packages/sklearn/model_selection/_validation.py:536: FitFailedWarning: Estimator fit failed. The score on this train-test partition for these parameters will be set to nan. Details: \n",
            "ValueError: max_features must be in (0, n_features]\n",
            "\n",
            "  FitFailedWarning)\n",
            "/usr/local/lib/python3.7/dist-packages/sklearn/model_selection/_validation.py:536: FitFailedWarning: Estimator fit failed. The score on this train-test partition for these parameters will be set to nan. Details: \n",
            "ValueError: max_features must be in (0, n_features]\n",
            "\n",
            "  FitFailedWarning)\n",
            "/usr/local/lib/python3.7/dist-packages/sklearn/model_selection/_validation.py:536: FitFailedWarning: Estimator fit failed. The score on this train-test partition for these parameters will be set to nan. Details: \n",
            "ValueError: max_features must be in (0, n_features]\n",
            "\n",
            "  FitFailedWarning)\n",
            "/usr/local/lib/python3.7/dist-packages/sklearn/model_selection/_validation.py:536: FitFailedWarning: Estimator fit failed. The score on this train-test partition for these parameters will be set to nan. Details: \n",
            "ValueError: max_features must be in (0, n_features]\n",
            "\n",
            "  FitFailedWarning)\n",
            "/usr/local/lib/python3.7/dist-packages/sklearn/model_selection/_validation.py:536: FitFailedWarning: Estimator fit failed. The score on this train-test partition for these parameters will be set to nan. Details: \n",
            "ValueError: max_features must be in (0, n_features]\n",
            "\n",
            "  FitFailedWarning)\n",
            "/usr/local/lib/python3.7/dist-packages/sklearn/model_selection/_validation.py:536: FitFailedWarning: Estimator fit failed. The score on this train-test partition for these parameters will be set to nan. Details: \n",
            "ValueError: max_features must be in (0, n_features]\n",
            "\n",
            "  FitFailedWarning)\n",
            "/usr/local/lib/python3.7/dist-packages/sklearn/model_selection/_validation.py:536: FitFailedWarning: Estimator fit failed. The score on this train-test partition for these parameters will be set to nan. Details: \n",
            "ValueError: max_features must be in (0, n_features]\n",
            "\n",
            "  FitFailedWarning)\n",
            "/usr/local/lib/python3.7/dist-packages/sklearn/model_selection/_validation.py:536: FitFailedWarning: Estimator fit failed. The score on this train-test partition for these parameters will be set to nan. Details: \n",
            "ValueError: max_features must be in (0, n_features]\n",
            "\n",
            "  FitFailedWarning)\n",
            "/usr/local/lib/python3.7/dist-packages/sklearn/model_selection/_validation.py:536: FitFailedWarning: Estimator fit failed. The score on this train-test partition for these parameters will be set to nan. Details: \n",
            "ValueError: max_features must be in (0, n_features]\n",
            "\n",
            "  FitFailedWarning)\n",
            "/usr/local/lib/python3.7/dist-packages/sklearn/model_selection/_validation.py:536: FitFailedWarning: Estimator fit failed. The score on this train-test partition for these parameters will be set to nan. Details: \n",
            "ValueError: max_features must be in (0, n_features]\n",
            "\n",
            "  FitFailedWarning)\n",
            "/usr/local/lib/python3.7/dist-packages/sklearn/model_selection/_validation.py:536: FitFailedWarning: Estimator fit failed. The score on this train-test partition for these parameters will be set to nan. Details: \n",
            "ValueError: max_features must be in (0, n_features]\n",
            "\n",
            "  FitFailedWarning)\n",
            "/usr/local/lib/python3.7/dist-packages/sklearn/model_selection/_validation.py:536: FitFailedWarning: Estimator fit failed. The score on this train-test partition for these parameters will be set to nan. Details: \n",
            "ValueError: max_features must be in (0, n_features]\n",
            "\n",
            "  FitFailedWarning)\n",
            "/usr/local/lib/python3.7/dist-packages/sklearn/model_selection/_validation.py:536: FitFailedWarning: Estimator fit failed. The score on this train-test partition for these parameters will be set to nan. Details: \n",
            "ValueError: max_features must be in (0, n_features]\n",
            "\n",
            "  FitFailedWarning)\n",
            "/usr/local/lib/python3.7/dist-packages/sklearn/model_selection/_validation.py:536: FitFailedWarning: Estimator fit failed. The score on this train-test partition for these parameters will be set to nan. Details: \n",
            "ValueError: max_features must be in (0, n_features]\n",
            "\n",
            "  FitFailedWarning)\n",
            "/usr/local/lib/python3.7/dist-packages/sklearn/model_selection/_validation.py:536: FitFailedWarning: Estimator fit failed. The score on this train-test partition for these parameters will be set to nan. Details: \n",
            "ValueError: max_features must be in (0, n_features]\n",
            "\n",
            "  FitFailedWarning)\n",
            "/usr/local/lib/python3.7/dist-packages/sklearn/model_selection/_validation.py:536: FitFailedWarning: Estimator fit failed. The score on this train-test partition for these parameters will be set to nan. Details: \n",
            "ValueError: max_features must be in (0, n_features]\n",
            "\n",
            "  FitFailedWarning)\n",
            "/usr/local/lib/python3.7/dist-packages/sklearn/model_selection/_validation.py:536: FitFailedWarning: Estimator fit failed. The score on this train-test partition for these parameters will be set to nan. Details: \n",
            "ValueError: max_features must be in (0, n_features]\n",
            "\n",
            "  FitFailedWarning)\n",
            "/usr/local/lib/python3.7/dist-packages/sklearn/model_selection/_validation.py:536: FitFailedWarning: Estimator fit failed. The score on this train-test partition for these parameters will be set to nan. Details: \n",
            "ValueError: max_features must be in (0, n_features]\n",
            "\n",
            "  FitFailedWarning)\n",
            "/usr/local/lib/python3.7/dist-packages/sklearn/model_selection/_validation.py:536: FitFailedWarning: Estimator fit failed. The score on this train-test partition for these parameters will be set to nan. Details: \n",
            "ValueError: max_features must be in (0, n_features]\n",
            "\n",
            "  FitFailedWarning)\n",
            "/usr/local/lib/python3.7/dist-packages/sklearn/model_selection/_validation.py:536: FitFailedWarning: Estimator fit failed. The score on this train-test partition for these parameters will be set to nan. Details: \n",
            "ValueError: max_features must be in (0, n_features]\n",
            "\n",
            "  FitFailedWarning)\n",
            "/usr/local/lib/python3.7/dist-packages/sklearn/model_selection/_validation.py:536: FitFailedWarning: Estimator fit failed. The score on this train-test partition for these parameters will be set to nan. Details: \n",
            "ValueError: max_features must be in (0, n_features]\n",
            "\n",
            "  FitFailedWarning)\n",
            "/usr/local/lib/python3.7/dist-packages/sklearn/model_selection/_validation.py:536: FitFailedWarning: Estimator fit failed. The score on this train-test partition for these parameters will be set to nan. Details: \n",
            "ValueError: max_features must be in (0, n_features]\n",
            "\n",
            "  FitFailedWarning)\n",
            "/usr/local/lib/python3.7/dist-packages/sklearn/model_selection/_validation.py:536: FitFailedWarning: Estimator fit failed. The score on this train-test partition for these parameters will be set to nan. Details: \n",
            "ValueError: max_features must be in (0, n_features]\n",
            "\n",
            "  FitFailedWarning)\n",
            "/usr/local/lib/python3.7/dist-packages/sklearn/model_selection/_validation.py:536: FitFailedWarning: Estimator fit failed. The score on this train-test partition for these parameters will be set to nan. Details: \n",
            "ValueError: max_features must be in (0, n_features]\n",
            "\n",
            "  FitFailedWarning)\n",
            "/usr/local/lib/python3.7/dist-packages/sklearn/model_selection/_validation.py:536: FitFailedWarning: Estimator fit failed. The score on this train-test partition for these parameters will be set to nan. Details: \n",
            "ValueError: max_features must be in (0, n_features]\n",
            "\n",
            "  FitFailedWarning)\n",
            "/usr/local/lib/python3.7/dist-packages/sklearn/model_selection/_validation.py:536: FitFailedWarning: Estimator fit failed. The score on this train-test partition for these parameters will be set to nan. Details: \n",
            "ValueError: max_features must be in (0, n_features]\n",
            "\n",
            "  FitFailedWarning)\n",
            "/usr/local/lib/python3.7/dist-packages/sklearn/model_selection/_validation.py:536: FitFailedWarning: Estimator fit failed. The score on this train-test partition for these parameters will be set to nan. Details: \n",
            "ValueError: max_features must be in (0, n_features]\n",
            "\n",
            "  FitFailedWarning)\n",
            "/usr/local/lib/python3.7/dist-packages/sklearn/model_selection/_validation.py:536: FitFailedWarning: Estimator fit failed. The score on this train-test partition for these parameters will be set to nan. Details: \n",
            "ValueError: max_features must be in (0, n_features]\n",
            "\n",
            "  FitFailedWarning)\n",
            "/usr/local/lib/python3.7/dist-packages/sklearn/model_selection/_validation.py:536: FitFailedWarning: Estimator fit failed. The score on this train-test partition for these parameters will be set to nan. Details: \n",
            "ValueError: max_features must be in (0, n_features]\n",
            "\n",
            "  FitFailedWarning)\n",
            "/usr/local/lib/python3.7/dist-packages/sklearn/model_selection/_validation.py:536: FitFailedWarning: Estimator fit failed. The score on this train-test partition for these parameters will be set to nan. Details: \n",
            "ValueError: max_features must be in (0, n_features]\n",
            "\n",
            "  FitFailedWarning)\n",
            "/usr/local/lib/python3.7/dist-packages/sklearn/model_selection/_validation.py:536: FitFailedWarning: Estimator fit failed. The score on this train-test partition for these parameters will be set to nan. Details: \n",
            "ValueError: max_features must be in (0, n_features]\n",
            "\n",
            "  FitFailedWarning)\n",
            "/usr/local/lib/python3.7/dist-packages/sklearn/model_selection/_validation.py:536: FitFailedWarning: Estimator fit failed. The score on this train-test partition for these parameters will be set to nan. Details: \n",
            "ValueError: max_features must be in (0, n_features]\n",
            "\n",
            "  FitFailedWarning)\n",
            "/usr/local/lib/python3.7/dist-packages/sklearn/model_selection/_validation.py:536: FitFailedWarning: Estimator fit failed. The score on this train-test partition for these parameters will be set to nan. Details: \n",
            "ValueError: max_features must be in (0, n_features]\n",
            "\n",
            "  FitFailedWarning)\n",
            "/usr/local/lib/python3.7/dist-packages/sklearn/model_selection/_validation.py:536: FitFailedWarning: Estimator fit failed. The score on this train-test partition for these parameters will be set to nan. Details: \n",
            "ValueError: max_features must be in (0, n_features]\n",
            "\n",
            "  FitFailedWarning)\n",
            "/usr/local/lib/python3.7/dist-packages/sklearn/model_selection/_validation.py:536: FitFailedWarning: Estimator fit failed. The score on this train-test partition for these parameters will be set to nan. Details: \n",
            "ValueError: max_features must be in (0, n_features]\n",
            "\n",
            "  FitFailedWarning)\n",
            "/usr/local/lib/python3.7/dist-packages/sklearn/model_selection/_validation.py:536: FitFailedWarning: Estimator fit failed. The score on this train-test partition for these parameters will be set to nan. Details: \n",
            "ValueError: max_features must be in (0, n_features]\n",
            "\n",
            "  FitFailedWarning)\n",
            "/usr/local/lib/python3.7/dist-packages/sklearn/model_selection/_validation.py:536: FitFailedWarning: Estimator fit failed. The score on this train-test partition for these parameters will be set to nan. Details: \n",
            "ValueError: max_features must be in (0, n_features]\n",
            "\n",
            "  FitFailedWarning)\n",
            "/usr/local/lib/python3.7/dist-packages/sklearn/model_selection/_validation.py:536: FitFailedWarning: Estimator fit failed. The score on this train-test partition for these parameters will be set to nan. Details: \n",
            "ValueError: max_features must be in (0, n_features]\n",
            "\n",
            "  FitFailedWarning)\n",
            "/usr/local/lib/python3.7/dist-packages/sklearn/model_selection/_validation.py:536: FitFailedWarning: Estimator fit failed. The score on this train-test partition for these parameters will be set to nan. Details: \n",
            "ValueError: max_features must be in (0, n_features]\n",
            "\n",
            "  FitFailedWarning)\n",
            "/usr/local/lib/python3.7/dist-packages/sklearn/model_selection/_validation.py:536: FitFailedWarning: Estimator fit failed. The score on this train-test partition for these parameters will be set to nan. Details: \n",
            "ValueError: max_features must be in (0, n_features]\n",
            "\n",
            "  FitFailedWarning)\n",
            "/usr/local/lib/python3.7/dist-packages/sklearn/model_selection/_validation.py:536: FitFailedWarning: Estimator fit failed. The score on this train-test partition for these parameters will be set to nan. Details: \n",
            "ValueError: max_features must be in (0, n_features]\n",
            "\n",
            "  FitFailedWarning)\n",
            "/usr/local/lib/python3.7/dist-packages/sklearn/model_selection/_validation.py:536: FitFailedWarning: Estimator fit failed. The score on this train-test partition for these parameters will be set to nan. Details: \n",
            "ValueError: max_features must be in (0, n_features]\n",
            "\n",
            "  FitFailedWarning)\n",
            "/usr/local/lib/python3.7/dist-packages/sklearn/model_selection/_validation.py:536: FitFailedWarning: Estimator fit failed. The score on this train-test partition for these parameters will be set to nan. Details: \n",
            "ValueError: max_features must be in (0, n_features]\n",
            "\n",
            "  FitFailedWarning)\n",
            "/usr/local/lib/python3.7/dist-packages/sklearn/model_selection/_validation.py:536: FitFailedWarning: Estimator fit failed. The score on this train-test partition for these parameters will be set to nan. Details: \n",
            "ValueError: max_features must be in (0, n_features]\n",
            "\n",
            "  FitFailedWarning)\n",
            "/usr/local/lib/python3.7/dist-packages/sklearn/model_selection/_validation.py:536: FitFailedWarning: Estimator fit failed. The score on this train-test partition for these parameters will be set to nan. Details: \n",
            "ValueError: max_features must be in (0, n_features]\n",
            "\n",
            "  FitFailedWarning)\n",
            "/usr/local/lib/python3.7/dist-packages/sklearn/model_selection/_validation.py:536: FitFailedWarning: Estimator fit failed. The score on this train-test partition for these parameters will be set to nan. Details: \n",
            "ValueError: max_features must be in (0, n_features]\n",
            "\n",
            "  FitFailedWarning)\n",
            "/usr/local/lib/python3.7/dist-packages/sklearn/model_selection/_validation.py:536: FitFailedWarning: Estimator fit failed. The score on this train-test partition for these parameters will be set to nan. Details: \n",
            "ValueError: max_features must be in (0, n_features]\n",
            "\n",
            "  FitFailedWarning)\n",
            "/usr/local/lib/python3.7/dist-packages/sklearn/model_selection/_validation.py:536: FitFailedWarning: Estimator fit failed. The score on this train-test partition for these parameters will be set to nan. Details: \n",
            "ValueError: max_features must be in (0, n_features]\n",
            "\n",
            "  FitFailedWarning)\n",
            "/usr/local/lib/python3.7/dist-packages/sklearn/model_selection/_validation.py:536: FitFailedWarning: Estimator fit failed. The score on this train-test partition for these parameters will be set to nan. Details: \n",
            "ValueError: max_features must be in (0, n_features]\n",
            "\n",
            "  FitFailedWarning)\n",
            "/usr/local/lib/python3.7/dist-packages/sklearn/model_selection/_validation.py:536: FitFailedWarning: Estimator fit failed. The score on this train-test partition for these parameters will be set to nan. Details: \n",
            "ValueError: max_features must be in (0, n_features]\n",
            "\n",
            "  FitFailedWarning)\n"
          ],
          "name": "stderr"
        }
      ]
    },
    {
      "cell_type": "code",
      "metadata": {
        "colab": {
          "base_uri": "https://localhost:8080/"
        },
        "id": "9NPjpG2LPZmc",
        "outputId": "3fa6e49c-bcae-4280-e3f4-161807abf3b9"
      },
      "source": [
        "bagging.best_params_"
      ],
      "execution_count": 196,
      "outputs": [
        {
          "output_type": "execute_result",
          "data": {
            "text/plain": [
              "{'max_features': 4, 'n_estimators': 40}"
            ]
          },
          "metadata": {
            "tags": []
          },
          "execution_count": 196
        }
      ]
    },
    {
      "cell_type": "code",
      "metadata": {
        "colab": {
          "base_uri": "https://localhost:8080/"
        },
        "id": "vyhUtcmBPcHe",
        "outputId": "808e60bb-e875-4db5-bfcf-c05fd1a44f7c"
      },
      "source": [
        "y_pred = bagging.predict(X_test)\n",
        "\n",
        "model_score = bagging.score(X_test,y_test)\n",
        "mse = metrics.mean_squared_error(y_test, y_pred)\n",
        "mae = metrics.mean_absolute_error(y_test, y_pred)\n",
        "\n",
        "print(\"Model Score            : \", model_score)\n",
        "print(\"Mean Squared Error     : \", mse)\n",
        "print(\"Root Mean Squared Error: \", mse**(1/2))\n",
        "print(\"Mean Absolute Error    : \", mae)"
      ],
      "execution_count": 197,
      "outputs": [
        {
          "output_type": "stream",
          "text": [
            "Model Score            :  0.6388630919241027\n",
            "Mean Squared Error     :  0.7897861795354706\n",
            "Root Mean Squared Error:  0.8886991501827098\n",
            "Mean Absolute Error    :  0.6422312387231779\n"
          ],
          "name": "stdout"
        }
      ]
    },
    {
      "cell_type": "markdown",
      "metadata": {
        "id": "lZ5UBcjAPl2j"
      },
      "source": [
        "##Бустинг"
      ]
    },
    {
      "cell_type": "code",
      "metadata": {
        "id": "o2NXph_YPnxJ"
      },
      "source": [
        "from sklearn.ensemble import GradientBoostingRegressor"
      ],
      "execution_count": 198,
      "outputs": []
    },
    {
      "cell_type": "code",
      "metadata": {
        "colab": {
          "base_uri": "https://localhost:8080/"
        },
        "id": "PWbx5alxPrFz",
        "outputId": "c215ffe5-3f79-4786-a655-55cecf4e0aa1"
      },
      "source": [
        "%%time\n",
        "gbc = GradientBoostingRegressor()\n",
        "boosting_parameters = {'n_estimators' : range(5,20,5), 'max_depth' : range(1,8,1)}\n",
        "boosting = GridSearchCV(gbc, boosting_parameters)\n",
        "boosting.fit(X_train, y_train)"
      ],
      "execution_count": 199,
      "outputs": [
        {
          "output_type": "stream",
          "text": [
            "CPU times: user 1.33 s, sys: 9.01 ms, total: 1.34 s\n",
            "Wall time: 1.35 s\n"
          ],
          "name": "stdout"
        }
      ]
    },
    {
      "cell_type": "code",
      "metadata": {
        "colab": {
          "base_uri": "https://localhost:8080/"
        },
        "id": "-53utjRlPuWH",
        "outputId": "7aab0684-ccf8-4d50-9124-0c3f0ad50423"
      },
      "source": [
        "boosting.best_params_"
      ],
      "execution_count": 200,
      "outputs": [
        {
          "output_type": "execute_result",
          "data": {
            "text/plain": [
              "{'max_depth': 7, 'n_estimators': 15}"
            ]
          },
          "metadata": {
            "tags": []
          },
          "execution_count": 200
        }
      ]
    },
    {
      "cell_type": "code",
      "metadata": {
        "colab": {
          "base_uri": "https://localhost:8080/"
        },
        "id": "i6V6ZCCMPxH0",
        "outputId": "ad66517d-9fd1-45c8-c860-9d24275c84de"
      },
      "source": [
        "y_pred = boosting.predict(X_test)\n",
        "\n",
        "model_score = boosting.score(X_test,y_test)\n",
        "mse = metrics.mean_squared_error(y_test, y_pred)\n",
        "mae = metrics.mean_absolute_error(y_test, y_pred)\n",
        "\n",
        "print(\"Model Score            : \", model_score)\n",
        "print(\"Mean Squared Error     : \", mse)\n",
        "print(\"Root Mean Squared Error: \", mse**(1/2))\n",
        "print(\"Mean Absolute Error    : \", mae)"
      ],
      "execution_count": 201,
      "outputs": [
        {
          "output_type": "stream",
          "text": [
            "Model Score            :  0.6441597586522722\n",
            "Mean Squared Error     :  0.7782026662307756\n",
            "Root Mean Squared Error:  0.8821579599089812\n",
            "Mean Absolute Error    :  0.6304328839474673\n"
          ],
          "name": "stdout"
        }
      ]
    },
    {
      "cell_type": "markdown",
      "metadata": {
        "id": "932OepPvP0Gb"
      },
      "source": [
        "##Стекинг"
      ]
    },
    {
      "cell_type": "code",
      "metadata": {
        "id": "spQof4uvP1Wc"
      },
      "source": [
        "from sklearn.ensemble import StackingRegressor\n",
        "from sklearn.linear_model import LinearRegression\n",
        "from sklearn.linear_model import Ridge"
      ],
      "execution_count": 202,
      "outputs": []
    },
    {
      "cell_type": "code",
      "metadata": {
        "colab": {
          "base_uri": "https://localhost:8080/"
        },
        "id": "MTuNo70mP3Fb",
        "outputId": "03e4525c-48d5-480b-d2e0-b75a5a3ba7cd"
      },
      "source": [
        "%%time\n",
        "estimators = [('lreg', LinearRegression()),('Rid', Ridge())]\n",
        "sr = StackingRegressor(estimators=estimators)\n",
        "stacking = sr.fit(X_train, y_train)"
      ],
      "execution_count": 203,
      "outputs": [
        {
          "output_type": "stream",
          "text": [
            "CPU times: user 24.2 ms, sys: 100 µs, total: 24.3 ms\n",
            "Wall time: 23.4 ms\n"
          ],
          "name": "stdout"
        }
      ]
    },
    {
      "cell_type": "code",
      "metadata": {
        "colab": {
          "base_uri": "https://localhost:8080/"
        },
        "id": "4aa7Yo6nP9gm",
        "outputId": "4e1910a5-c354-45b4-aa00-3cbc35239c2d"
      },
      "source": [
        "y_pred = boosting.predict(X_test)\n",
        "\n",
        "model_score = stacking.score(X_test,y_test)\n",
        "mse = metrics.mean_squared_error(y_test, y_pred)\n",
        "mae = metrics.mean_absolute_error(y_test, y_pred)\n",
        "\n",
        "print(\"Model Score            : \", model_score)\n",
        "print(\"Mean Squared Error     : \", mse)\n",
        "print(\"Root Mean Squared Error: \", mse**(1/2))\n",
        "print(\"Mean Absolute Error    : \", mae)"
      ],
      "execution_count": 204,
      "outputs": [
        {
          "output_type": "stream",
          "text": [
            "Model Score            :  0.6238116231827527\n",
            "Mean Squared Error     :  0.7782026662307756\n",
            "Root Mean Squared Error:  0.8821579599089812\n",
            "Mean Absolute Error    :  0.6304328839474673\n"
          ],
          "name": "stdout"
        }
      ]
    },
    {
      "cell_type": "markdown",
      "metadata": {
        "id": "R-DxOBqTm93F"
      },
      "source": [
        "#Вывод"
      ]
    },
    {
      "cell_type": "markdown",
      "metadata": {
        "id": "ZsZiSGkRnH08"
      },
      "source": [
        "Все алгоритмы показали приблизительно одинаковые результаты, однако, наилучшую точность показал бустинг"
      ]
    }
  ]
}