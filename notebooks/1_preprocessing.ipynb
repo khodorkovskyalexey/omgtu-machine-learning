{
 "nbformat": 4,
 "nbformat_minor": 0,
 "metadata": {
  "colab": {
   "name": "1_preprocessing.ipynb",
   "provenance": [],
   "collapsed_sections": [
    "wORLDxS2kl3H",
    "ZRod0T8yktML",
    "tAXTHNmVo-w4",
    "mWdR25UnpgsZ",
    "gtBYkOcsqzlf",
    "ps_Buzbhrjbm"
   ],
   "toc_visible": true
  },
  "kernelspec": {
   "name": "python3",
   "display_name": "Python 3"
  }
 },
 "cells": [
  {
   "cell_type": "code",
   "metadata": {
    "id": "ZBJAdneIdZr2"
   },
   "source": [
    "import pandas as pd"
   ],
   "execution_count": null,
   "outputs": []
  },
  {
   "cell_type": "markdown",
   "metadata": {
    "id": "gmn5Zy9ZMe3-"
   },
   "source": [
    "# **Caesarian data classification**"
   ]
  },
  {
   "cell_type": "markdown",
   "metadata": {
    "id": "jywpzaXlSXzP"
   },
   "source": [
    "Загрузка таблицы"
   ]
  },
  {
   "cell_type": "code",
   "metadata": {
    "colab": {
     "base_uri": "https://localhost:8080/",
     "height": 419
    },
    "id": "TLKw3TDtMiKq",
    "outputId": "bc394210-6fe8-43dc-89f9-b0dc2a6ece18"
   },
   "source": [
    "cl_df = pd.read_csv('../data/caesarian/caesarian.csv', sep=',')\n",
    "cl_df"
   ],
   "execution_count": null,
   "outputs": [
    {
     "output_type": "execute_result",
     "data": {
      "text/html": [
       "<div>\n",
       "<style scoped>\n",
       "    .dataframe tbody tr th:only-of-type {\n",
       "        vertical-align: middle;\n",
       "    }\n",
       "\n",
       "    .dataframe tbody tr th {\n",
       "        vertical-align: top;\n",
       "    }\n",
       "\n",
       "    .dataframe thead th {\n",
       "        text-align: right;\n",
       "    }\n",
       "</style>\n",
       "<table border=\"1\" class=\"dataframe\">\n",
       "  <thead>\n",
       "    <tr style=\"text-align: right;\">\n",
       "      <th></th>\n",
       "      <th>Age</th>\n",
       "      <th>Delivery_number</th>\n",
       "      <th>Delivery_time</th>\n",
       "      <th>Blood_of_Pressure</th>\n",
       "      <th>Heart_Problem</th>\n",
       "      <th>Caesarian</th>\n",
       "    </tr>\n",
       "  </thead>\n",
       "  <tbody>\n",
       "    <tr>\n",
       "      <th>0</th>\n",
       "      <td>22</td>\n",
       "      <td>1</td>\n",
       "      <td>0</td>\n",
       "      <td>2</td>\n",
       "      <td>0</td>\n",
       "      <td>0</td>\n",
       "    </tr>\n",
       "    <tr>\n",
       "      <th>1</th>\n",
       "      <td>26</td>\n",
       "      <td>2</td>\n",
       "      <td>0</td>\n",
       "      <td>1</td>\n",
       "      <td>0</td>\n",
       "      <td>1</td>\n",
       "    </tr>\n",
       "    <tr>\n",
       "      <th>2</th>\n",
       "      <td>26</td>\n",
       "      <td>2</td>\n",
       "      <td>1</td>\n",
       "      <td>1</td>\n",
       "      <td>0</td>\n",
       "      <td>0</td>\n",
       "    </tr>\n",
       "    <tr>\n",
       "      <th>3</th>\n",
       "      <td>28</td>\n",
       "      <td>1</td>\n",
       "      <td>0</td>\n",
       "      <td>2</td>\n",
       "      <td>0</td>\n",
       "      <td>0</td>\n",
       "    </tr>\n",
       "    <tr>\n",
       "      <th>4</th>\n",
       "      <td>22</td>\n",
       "      <td>2</td>\n",
       "      <td>0</td>\n",
       "      <td>1</td>\n",
       "      <td>0</td>\n",
       "      <td>1</td>\n",
       "    </tr>\n",
       "    <tr>\n",
       "      <th>...</th>\n",
       "      <td>...</td>\n",
       "      <td>...</td>\n",
       "      <td>...</td>\n",
       "      <td>...</td>\n",
       "      <td>...</td>\n",
       "      <td>...</td>\n",
       "    </tr>\n",
       "    <tr>\n",
       "      <th>75</th>\n",
       "      <td>27</td>\n",
       "      <td>2</td>\n",
       "      <td>1</td>\n",
       "      <td>1</td>\n",
       "      <td>0</td>\n",
       "      <td>0</td>\n",
       "    </tr>\n",
       "    <tr>\n",
       "      <th>76</th>\n",
       "      <td>33</td>\n",
       "      <td>4</td>\n",
       "      <td>0</td>\n",
       "      <td>1</td>\n",
       "      <td>0</td>\n",
       "      <td>1</td>\n",
       "    </tr>\n",
       "    <tr>\n",
       "      <th>77</th>\n",
       "      <td>29</td>\n",
       "      <td>2</td>\n",
       "      <td>1</td>\n",
       "      <td>2</td>\n",
       "      <td>0</td>\n",
       "      <td>1</td>\n",
       "    </tr>\n",
       "    <tr>\n",
       "      <th>78</th>\n",
       "      <td>25</td>\n",
       "      <td>1</td>\n",
       "      <td>2</td>\n",
       "      <td>0</td>\n",
       "      <td>0</td>\n",
       "      <td>1</td>\n",
       "    </tr>\n",
       "    <tr>\n",
       "      <th>79</th>\n",
       "      <td>24</td>\n",
       "      <td>2</td>\n",
       "      <td>2</td>\n",
       "      <td>1</td>\n",
       "      <td>0</td>\n",
       "      <td>0</td>\n",
       "    </tr>\n",
       "  </tbody>\n",
       "</table>\n",
       "<p>80 rows × 6 columns</p>\n",
       "</div>"
      ],
      "text/plain": [
       "    Age  Delivery_number  ...  Heart_Problem  Caesarian\n",
       "0    22                1  ...              0          0\n",
       "1    26                2  ...              0          1\n",
       "2    26                2  ...              0          0\n",
       "3    28                1  ...              0          0\n",
       "4    22                2  ...              0          1\n",
       "..  ...              ...  ...            ...        ...\n",
       "75   27                2  ...              0          0\n",
       "76   33                4  ...              0          1\n",
       "77   29                2  ...              0          1\n",
       "78   25                1  ...              0          1\n",
       "79   24                2  ...              0          0\n",
       "\n",
       "[80 rows x 6 columns]"
      ]
     },
     "metadata": {
      "tags": []
     },
     "execution_count": 64
    }
   ]
  },
  {
   "cell_type": "markdown",
   "metadata": {
    "id": "4_zBI6ZVSc3u"
   },
   "source": [
    "Получение информации"
   ]
  },
  {
   "cell_type": "code",
   "metadata": {
    "colab": {
     "base_uri": "https://localhost:8080/"
    },
    "id": "EMrhw3pSMqHL",
    "outputId": "6f540afa-2325-4cc5-eb57-30be1d66409e"
   },
   "source": [
    "cl_df.info()"
   ],
   "execution_count": null,
   "outputs": [
    {
     "output_type": "stream",
     "text": [
      "<class 'pandas.core.frame.DataFrame'>\n",
      "RangeIndex: 80 entries, 0 to 79\n",
      "Data columns (total 6 columns):\n",
      " #   Column             Non-Null Count  Dtype\n",
      "---  ------             --------------  -----\n",
      " 0   Age                80 non-null     int64\n",
      " 1   Delivery_number    80 non-null     int64\n",
      " 2   Delivery_time      80 non-null     int64\n",
      " 3   Blood_of_Pressure  80 non-null     int64\n",
      " 4   Heart_Problem      80 non-null     int64\n",
      " 5   Caesarian          80 non-null     int64\n",
      "dtypes: int64(6)\n",
      "memory usage: 3.9 KB\n"
     ],
     "name": "stdout"
    }
   ]
  },
  {
   "cell_type": "code",
   "metadata": {
    "colab": {
     "base_uri": "https://localhost:8080/"
    },
    "id": "Bzzcu0UkNhcW",
    "outputId": "c84b7e15-135e-4b7b-d66f-f8af37a8c5bd"
   },
   "source": [
    "cl_df.isnull().sum()"
   ],
   "execution_count": null,
   "outputs": [
    {
     "output_type": "execute_result",
     "data": {
      "text/plain": [
       "Age                  0\n",
       "Delivery_number      0\n",
       "Delivery_time        0\n",
       "Blood_of_Pressure    0\n",
       "Heart_Problem        0\n",
       "Caesarian            0\n",
       "dtype: int64"
      ]
     },
     "metadata": {
      "tags": []
     },
     "execution_count": 66
    }
   ]
  },
  {
   "cell_type": "markdown",
   "metadata": {
    "id": "XbxkqwFNNkwR"
   },
   "source": [
    "*Предобработка*"
   ]
  },
  {
   "cell_type": "code",
   "metadata": {
    "colab": {
     "base_uri": "https://localhost:8080/",
     "height": 439
    },
    "id": "olr6EKMqNnZS",
    "outputId": "7d5b4244-597f-4f38-e189-af012eb5d11e"
   },
   "source": [
    "cl_df = pd.get_dummies(cl_df,prefix=['Delivery_number'], columns=['Delivery_number'])\n",
    "cl_df = pd.get_dummies(cl_df,prefix=['Blood_of_Pressure'], columns=['Blood_of_Pressure'])\n",
    "cl_df = pd.get_dummies(cl_df,prefix=['Delivery_time'], columns=['Delivery_time'])\n",
    "cl_df"
   ],
   "execution_count": null,
   "outputs": [
    {
     "output_type": "execute_result",
     "data": {
      "text/html": [
       "<div>\n",
       "<style scoped>\n",
       "    .dataframe tbody tr th:only-of-type {\n",
       "        vertical-align: middle;\n",
       "    }\n",
       "\n",
       "    .dataframe tbody tr th {\n",
       "        vertical-align: top;\n",
       "    }\n",
       "\n",
       "    .dataframe thead th {\n",
       "        text-align: right;\n",
       "    }\n",
       "</style>\n",
       "<table border=\"1\" class=\"dataframe\">\n",
       "  <thead>\n",
       "    <tr style=\"text-align: right;\">\n",
       "      <th></th>\n",
       "      <th>Age</th>\n",
       "      <th>Heart_Problem</th>\n",
       "      <th>Caesarian</th>\n",
       "      <th>Delivery_number_1</th>\n",
       "      <th>Delivery_number_2</th>\n",
       "      <th>Delivery_number_3</th>\n",
       "      <th>Delivery_number_4</th>\n",
       "      <th>Blood_of_Pressure_0</th>\n",
       "      <th>Blood_of_Pressure_1</th>\n",
       "      <th>Blood_of_Pressure_2</th>\n",
       "      <th>Delivery_time_0</th>\n",
       "      <th>Delivery_time_1</th>\n",
       "      <th>Delivery_time_2</th>\n",
       "    </tr>\n",
       "  </thead>\n",
       "  <tbody>\n",
       "    <tr>\n",
       "      <th>0</th>\n",
       "      <td>22</td>\n",
       "      <td>0</td>\n",
       "      <td>0</td>\n",
       "      <td>1</td>\n",
       "      <td>0</td>\n",
       "      <td>0</td>\n",
       "      <td>0</td>\n",
       "      <td>0</td>\n",
       "      <td>0</td>\n",
       "      <td>1</td>\n",
       "      <td>1</td>\n",
       "      <td>0</td>\n",
       "      <td>0</td>\n",
       "    </tr>\n",
       "    <tr>\n",
       "      <th>1</th>\n",
       "      <td>26</td>\n",
       "      <td>0</td>\n",
       "      <td>1</td>\n",
       "      <td>0</td>\n",
       "      <td>1</td>\n",
       "      <td>0</td>\n",
       "      <td>0</td>\n",
       "      <td>0</td>\n",
       "      <td>1</td>\n",
       "      <td>0</td>\n",
       "      <td>1</td>\n",
       "      <td>0</td>\n",
       "      <td>0</td>\n",
       "    </tr>\n",
       "    <tr>\n",
       "      <th>2</th>\n",
       "      <td>26</td>\n",
       "      <td>0</td>\n",
       "      <td>0</td>\n",
       "      <td>0</td>\n",
       "      <td>1</td>\n",
       "      <td>0</td>\n",
       "      <td>0</td>\n",
       "      <td>0</td>\n",
       "      <td>1</td>\n",
       "      <td>0</td>\n",
       "      <td>0</td>\n",
       "      <td>1</td>\n",
       "      <td>0</td>\n",
       "    </tr>\n",
       "    <tr>\n",
       "      <th>3</th>\n",
       "      <td>28</td>\n",
       "      <td>0</td>\n",
       "      <td>0</td>\n",
       "      <td>1</td>\n",
       "      <td>0</td>\n",
       "      <td>0</td>\n",
       "      <td>0</td>\n",
       "      <td>0</td>\n",
       "      <td>0</td>\n",
       "      <td>1</td>\n",
       "      <td>1</td>\n",
       "      <td>0</td>\n",
       "      <td>0</td>\n",
       "    </tr>\n",
       "    <tr>\n",
       "      <th>4</th>\n",
       "      <td>22</td>\n",
       "      <td>0</td>\n",
       "      <td>1</td>\n",
       "      <td>0</td>\n",
       "      <td>1</td>\n",
       "      <td>0</td>\n",
       "      <td>0</td>\n",
       "      <td>0</td>\n",
       "      <td>1</td>\n",
       "      <td>0</td>\n",
       "      <td>1</td>\n",
       "      <td>0</td>\n",
       "      <td>0</td>\n",
       "    </tr>\n",
       "    <tr>\n",
       "      <th>...</th>\n",
       "      <td>...</td>\n",
       "      <td>...</td>\n",
       "      <td>...</td>\n",
       "      <td>...</td>\n",
       "      <td>...</td>\n",
       "      <td>...</td>\n",
       "      <td>...</td>\n",
       "      <td>...</td>\n",
       "      <td>...</td>\n",
       "      <td>...</td>\n",
       "      <td>...</td>\n",
       "      <td>...</td>\n",
       "      <td>...</td>\n",
       "    </tr>\n",
       "    <tr>\n",
       "      <th>75</th>\n",
       "      <td>27</td>\n",
       "      <td>0</td>\n",
       "      <td>0</td>\n",
       "      <td>0</td>\n",
       "      <td>1</td>\n",
       "      <td>0</td>\n",
       "      <td>0</td>\n",
       "      <td>0</td>\n",
       "      <td>1</td>\n",
       "      <td>0</td>\n",
       "      <td>0</td>\n",
       "      <td>1</td>\n",
       "      <td>0</td>\n",
       "    </tr>\n",
       "    <tr>\n",
       "      <th>76</th>\n",
       "      <td>33</td>\n",
       "      <td>0</td>\n",
       "      <td>1</td>\n",
       "      <td>0</td>\n",
       "      <td>0</td>\n",
       "      <td>0</td>\n",
       "      <td>1</td>\n",
       "      <td>0</td>\n",
       "      <td>1</td>\n",
       "      <td>0</td>\n",
       "      <td>1</td>\n",
       "      <td>0</td>\n",
       "      <td>0</td>\n",
       "    </tr>\n",
       "    <tr>\n",
       "      <th>77</th>\n",
       "      <td>29</td>\n",
       "      <td>0</td>\n",
       "      <td>1</td>\n",
       "      <td>0</td>\n",
       "      <td>1</td>\n",
       "      <td>0</td>\n",
       "      <td>0</td>\n",
       "      <td>0</td>\n",
       "      <td>0</td>\n",
       "      <td>1</td>\n",
       "      <td>0</td>\n",
       "      <td>1</td>\n",
       "      <td>0</td>\n",
       "    </tr>\n",
       "    <tr>\n",
       "      <th>78</th>\n",
       "      <td>25</td>\n",
       "      <td>0</td>\n",
       "      <td>1</td>\n",
       "      <td>1</td>\n",
       "      <td>0</td>\n",
       "      <td>0</td>\n",
       "      <td>0</td>\n",
       "      <td>1</td>\n",
       "      <td>0</td>\n",
       "      <td>0</td>\n",
       "      <td>0</td>\n",
       "      <td>0</td>\n",
       "      <td>1</td>\n",
       "    </tr>\n",
       "    <tr>\n",
       "      <th>79</th>\n",
       "      <td>24</td>\n",
       "      <td>0</td>\n",
       "      <td>0</td>\n",
       "      <td>0</td>\n",
       "      <td>1</td>\n",
       "      <td>0</td>\n",
       "      <td>0</td>\n",
       "      <td>0</td>\n",
       "      <td>1</td>\n",
       "      <td>0</td>\n",
       "      <td>0</td>\n",
       "      <td>0</td>\n",
       "      <td>1</td>\n",
       "    </tr>\n",
       "  </tbody>\n",
       "</table>\n",
       "<p>80 rows × 13 columns</p>\n",
       "</div>"
      ],
      "text/plain": [
       "    Age  Heart_Problem  ...  Delivery_time_1  Delivery_time_2\n",
       "0    22              0  ...                0                0\n",
       "1    26              0  ...                0                0\n",
       "2    26              0  ...                1                0\n",
       "3    28              0  ...                0                0\n",
       "4    22              0  ...                0                0\n",
       "..  ...            ...  ...              ...              ...\n",
       "75   27              0  ...                1                0\n",
       "76   33              0  ...                0                0\n",
       "77   29              0  ...                1                0\n",
       "78   25              0  ...                0                1\n",
       "79   24              0  ...                0                1\n",
       "\n",
       "[80 rows x 13 columns]"
      ]
     },
     "metadata": {
      "tags": []
     },
     "execution_count": 67
    }
   ]
  },
  {
   "cell_type": "markdown",
   "metadata": {
    "id": "pTng4EknSh3s"
   },
   "source": [
    "Проверка оставшихся столбцов на бинарность"
   ]
  },
  {
   "cell_type": "code",
   "metadata": {
    "colab": {
     "base_uri": "https://localhost:8080/"
    },
    "id": "TlXWR-v0PKsS",
    "outputId": "0f17d1c1-08ee-43f0-a4c8-bba9d68b0bd2"
   },
   "source": [
    "cl_df['Heart_Problem'].unique()"
   ],
   "execution_count": null,
   "outputs": [
    {
     "output_type": "execute_result",
     "data": {
      "text/plain": [
       "array([0, 1])"
      ]
     },
     "metadata": {
      "tags": []
     },
     "execution_count": 68
    }
   ]
  },
  {
   "cell_type": "code",
   "metadata": {
    "colab": {
     "base_uri": "https://localhost:8080/"
    },
    "id": "NlIE_wJLPLcw",
    "outputId": "839c7c6a-eb73-4da7-e8f8-82b41306a338"
   },
   "source": [
    "cl_df['Caesarian'].unique()"
   ],
   "execution_count": null,
   "outputs": [
    {
     "output_type": "execute_result",
     "data": {
      "text/plain": [
       "array([0, 1])"
      ]
     },
     "metadata": {
      "tags": []
     },
     "execution_count": 69
    }
   ]
  },
  {
   "cell_type": "markdown",
   "metadata": {
    "id": "n3RCjlqzSpXO"
   },
   "source": [
    "Сохранение в csv"
   ]
  },
  {
   "cell_type": "code",
   "metadata": {
    "id": "bi3mcj-yPQBP"
   },
   "source": [
    "cl_df.to_csv('../data/caesarian/caesarian_preprocessed.csv')"
   ],
   "execution_count": null,
   "outputs": []
  },
  {
   "cell_type": "markdown",
   "metadata": {
    "id": "ZbBuMuNNPST6"
   },
   "source": [
    "# ***Toxicity fish regression***"
   ]
  },
  {
   "cell_type": "markdown",
   "metadata": {
    "id": "2jX67FTcSr4a"
   },
   "source": [
    "Загрузка таблицы"
   ]
  },
  {
   "cell_type": "code",
   "metadata": {
    "colab": {
     "base_uri": "https://localhost:8080/",
     "height": 419
    },
    "id": "kfAZUpm6PYBO",
    "outputId": "1d6f3957-637a-4e9c-8e0e-5fd6f84d3a1f"
   },
   "source": [
    "re_df = pd.read_csv('../data/qsar/qsar_fish_toxicity.csv', sep=';')\n",
    "re_df"
   ],
   "execution_count": null,
   "outputs": [
    {
     "output_type": "execute_result",
     "data": {
      "text/html": [
       "<div>\n",
       "<style scoped>\n",
       "    .dataframe tbody tr th:only-of-type {\n",
       "        vertical-align: middle;\n",
       "    }\n",
       "\n",
       "    .dataframe tbody tr th {\n",
       "        vertical-align: top;\n",
       "    }\n",
       "\n",
       "    .dataframe thead th {\n",
       "        text-align: right;\n",
       "    }\n",
       "</style>\n",
       "<table border=\"1\" class=\"dataframe\">\n",
       "  <thead>\n",
       "    <tr style=\"text-align: right;\">\n",
       "      <th></th>\n",
       "      <th>CIC0</th>\n",
       "      <th>SM1_Dz</th>\n",
       "      <th>GATS1i</th>\n",
       "      <th>NdsCH</th>\n",
       "      <th>NdssC</th>\n",
       "      <th>MLOGP</th>\n",
       "      <th>Quantitative_response</th>\n",
       "    </tr>\n",
       "  </thead>\n",
       "  <tbody>\n",
       "    <tr>\n",
       "      <th>0</th>\n",
       "      <td>3.260</td>\n",
       "      <td>0.829</td>\n",
       "      <td>1.676</td>\n",
       "      <td>0</td>\n",
       "      <td>1</td>\n",
       "      <td>1.453</td>\n",
       "      <td>3.770</td>\n",
       "    </tr>\n",
       "    <tr>\n",
       "      <th>1</th>\n",
       "      <td>2.189</td>\n",
       "      <td>0.580</td>\n",
       "      <td>0.863</td>\n",
       "      <td>0</td>\n",
       "      <td>0</td>\n",
       "      <td>1.348</td>\n",
       "      <td>3.115</td>\n",
       "    </tr>\n",
       "    <tr>\n",
       "      <th>2</th>\n",
       "      <td>2.125</td>\n",
       "      <td>0.638</td>\n",
       "      <td>0.831</td>\n",
       "      <td>0</td>\n",
       "      <td>0</td>\n",
       "      <td>1.348</td>\n",
       "      <td>3.531</td>\n",
       "    </tr>\n",
       "    <tr>\n",
       "      <th>3</th>\n",
       "      <td>3.027</td>\n",
       "      <td>0.331</td>\n",
       "      <td>1.472</td>\n",
       "      <td>1</td>\n",
       "      <td>0</td>\n",
       "      <td>1.807</td>\n",
       "      <td>3.510</td>\n",
       "    </tr>\n",
       "    <tr>\n",
       "      <th>4</th>\n",
       "      <td>2.094</td>\n",
       "      <td>0.827</td>\n",
       "      <td>0.860</td>\n",
       "      <td>0</td>\n",
       "      <td>0</td>\n",
       "      <td>1.886</td>\n",
       "      <td>5.390</td>\n",
       "    </tr>\n",
       "    <tr>\n",
       "      <th>...</th>\n",
       "      <td>...</td>\n",
       "      <td>...</td>\n",
       "      <td>...</td>\n",
       "      <td>...</td>\n",
       "      <td>...</td>\n",
       "      <td>...</td>\n",
       "      <td>...</td>\n",
       "    </tr>\n",
       "    <tr>\n",
       "      <th>903</th>\n",
       "      <td>2.801</td>\n",
       "      <td>0.728</td>\n",
       "      <td>2.226</td>\n",
       "      <td>0</td>\n",
       "      <td>2</td>\n",
       "      <td>0.736</td>\n",
       "      <td>3.109</td>\n",
       "    </tr>\n",
       "    <tr>\n",
       "      <th>904</th>\n",
       "      <td>3.652</td>\n",
       "      <td>0.872</td>\n",
       "      <td>0.867</td>\n",
       "      <td>2</td>\n",
       "      <td>3</td>\n",
       "      <td>3.983</td>\n",
       "      <td>4.040</td>\n",
       "    </tr>\n",
       "    <tr>\n",
       "      <th>905</th>\n",
       "      <td>3.763</td>\n",
       "      <td>0.916</td>\n",
       "      <td>0.878</td>\n",
       "      <td>0</td>\n",
       "      <td>6</td>\n",
       "      <td>2.918</td>\n",
       "      <td>4.818</td>\n",
       "    </tr>\n",
       "    <tr>\n",
       "      <th>906</th>\n",
       "      <td>2.831</td>\n",
       "      <td>1.393</td>\n",
       "      <td>1.077</td>\n",
       "      <td>0</td>\n",
       "      <td>1</td>\n",
       "      <td>0.906</td>\n",
       "      <td>5.317</td>\n",
       "    </tr>\n",
       "    <tr>\n",
       "      <th>907</th>\n",
       "      <td>4.057</td>\n",
       "      <td>1.032</td>\n",
       "      <td>1.183</td>\n",
       "      <td>1</td>\n",
       "      <td>3</td>\n",
       "      <td>4.754</td>\n",
       "      <td>8.201</td>\n",
       "    </tr>\n",
       "  </tbody>\n",
       "</table>\n",
       "<p>908 rows × 7 columns</p>\n",
       "</div>"
      ],
      "text/plain": [
       "      CIC0  SM1_Dz  GATS1i  NdsCH  NdssC  MLOGP  Quantitative_response\n",
       "0    3.260   0.829   1.676      0      1  1.453                  3.770\n",
       "1    2.189   0.580   0.863      0      0  1.348                  3.115\n",
       "2    2.125   0.638   0.831      0      0  1.348                  3.531\n",
       "3    3.027   0.331   1.472      1      0  1.807                  3.510\n",
       "4    2.094   0.827   0.860      0      0  1.886                  5.390\n",
       "..     ...     ...     ...    ...    ...    ...                    ...\n",
       "903  2.801   0.728   2.226      0      2  0.736                  3.109\n",
       "904  3.652   0.872   0.867      2      3  3.983                  4.040\n",
       "905  3.763   0.916   0.878      0      6  2.918                  4.818\n",
       "906  2.831   1.393   1.077      0      1  0.906                  5.317\n",
       "907  4.057   1.032   1.183      1      3  4.754                  8.201\n",
       "\n",
       "[908 rows x 7 columns]"
      ]
     },
     "metadata": {
      "tags": []
     },
     "execution_count": 71
    }
   ]
  },
  {
   "cell_type": "markdown",
   "metadata": {
    "id": "Cm1vTj4HSt02"
   },
   "source": [
    "Информация о таблице"
   ]
  },
  {
   "cell_type": "code",
   "metadata": {
    "colab": {
     "base_uri": "https://localhost:8080/"
    },
    "id": "GYWzajdcRXbw",
    "outputId": "cb45b393-6b46-490d-f9ae-fcc66199962d"
   },
   "source": [
    "re_df.info()"
   ],
   "execution_count": null,
   "outputs": [
    {
     "output_type": "stream",
     "text": [
      "<class 'pandas.core.frame.DataFrame'>\n",
      "RangeIndex: 908 entries, 0 to 907\n",
      "Data columns (total 7 columns):\n",
      " #   Column                 Non-Null Count  Dtype  \n",
      "---  ------                 --------------  -----  \n",
      " 0   CIC0                   908 non-null    float64\n",
      " 1   SM1_Dz                 908 non-null    float64\n",
      " 2   GATS1i                 908 non-null    float64\n",
      " 3   NdsCH                  908 non-null    int64  \n",
      " 4   NdssC                  908 non-null    int64  \n",
      " 5   MLOGP                  908 non-null    float64\n",
      " 6   Quantitative_response  908 non-null    float64\n",
      "dtypes: float64(5), int64(2)\n",
      "memory usage: 49.8 KB\n"
     ],
     "name": "stdout"
    }
   ]
  },
  {
   "cell_type": "code",
   "metadata": {
    "colab": {
     "base_uri": "https://localhost:8080/"
    },
    "id": "6ReM1qc_Rbrv",
    "outputId": "89f8b90b-f214-481d-a86f-45b575ef60c0"
   },
   "source": [
    "re_df.isnull().sum()"
   ],
   "execution_count": null,
   "outputs": [
    {
     "output_type": "execute_result",
     "data": {
      "text/plain": [
       "CIC0                     0\n",
       "SM1_Dz                   0\n",
       "GATS1i                   0\n",
       "NdsCH                    0\n",
       "NdssC                    0\n",
       "MLOGP                    0\n",
       "Quantitative_response    0\n",
       "dtype: int64"
      ]
     },
     "metadata": {
      "tags": []
     },
     "execution_count": 73
    }
   ]
  },
  {
   "cell_type": "markdown",
   "metadata": {
    "id": "nDTltBUcSwSb"
   },
   "source": [
    "Проверка столбцов типа int на бинарность"
   ]
  },
  {
   "cell_type": "code",
   "metadata": {
    "colab": {
     "base_uri": "https://localhost:8080/"
    },
    "id": "mD5y7_Y6Rk1w",
    "outputId": "4f9f3e33-517a-46ba-c96c-4b25ca1f51f0"
   },
   "source": [
    "re_df['NdsCH'].unique()"
   ],
   "execution_count": null,
   "outputs": [
    {
     "output_type": "execute_result",
     "data": {
      "text/plain": [
       "array([0, 1, 3, 2, 4])"
      ]
     },
     "metadata": {
      "tags": []
     },
     "execution_count": 74
    }
   ]
  },
  {
   "cell_type": "code",
   "metadata": {
    "colab": {
     "base_uri": "https://localhost:8080/"
    },
    "id": "69jddzV3RvtR",
    "outputId": "167f53d0-588f-4b64-d1d8-158598f285f2"
   },
   "source": [
    "re_df['NdssC'].unique()"
   ],
   "execution_count": null,
   "outputs": [
    {
     "output_type": "execute_result",
     "data": {
      "text/plain": [
       "array([1, 0, 3, 2, 4, 5, 6])"
      ]
     },
     "metadata": {
      "tags": []
     },
     "execution_count": 75
    }
   ]
  },
  {
   "cell_type": "markdown",
   "metadata": {
    "id": "K9sueQQYS3UN"
   },
   "source": [
    "Предобработка"
   ]
  },
  {
   "cell_type": "code",
   "metadata": {
    "colab": {
     "base_uri": "https://localhost:8080/",
     "height": 439
    },
    "id": "w8y1ax7xR7Zi",
    "outputId": "d6705bd7-69d9-4ea1-a2c0-13bb6b0d2c67"
   },
   "source": [
    "re_df = pd.get_dummies(re_df,prefix=['NdsCH'], columns=['NdsCH'])\n",
    "re_df = pd.get_dummies(re_df,prefix=['NdssC'], columns=['NdssC'])\n",
    "re_df"
   ],
   "execution_count": null,
   "outputs": [
    {
     "output_type": "execute_result",
     "data": {
      "text/html": [
       "<div>\n",
       "<style scoped>\n",
       "    .dataframe tbody tr th:only-of-type {\n",
       "        vertical-align: middle;\n",
       "    }\n",
       "\n",
       "    .dataframe tbody tr th {\n",
       "        vertical-align: top;\n",
       "    }\n",
       "\n",
       "    .dataframe thead th {\n",
       "        text-align: right;\n",
       "    }\n",
       "</style>\n",
       "<table border=\"1\" class=\"dataframe\">\n",
       "  <thead>\n",
       "    <tr style=\"text-align: right;\">\n",
       "      <th></th>\n",
       "      <th>CIC0</th>\n",
       "      <th>SM1_Dz</th>\n",
       "      <th>GATS1i</th>\n",
       "      <th>MLOGP</th>\n",
       "      <th>Quantitative_response</th>\n",
       "      <th>NdsCH_0</th>\n",
       "      <th>NdsCH_1</th>\n",
       "      <th>NdsCH_2</th>\n",
       "      <th>NdsCH_3</th>\n",
       "      <th>NdsCH_4</th>\n",
       "      <th>NdssC_0</th>\n",
       "      <th>NdssC_1</th>\n",
       "      <th>NdssC_2</th>\n",
       "      <th>NdssC_3</th>\n",
       "      <th>NdssC_4</th>\n",
       "      <th>NdssC_5</th>\n",
       "      <th>NdssC_6</th>\n",
       "    </tr>\n",
       "  </thead>\n",
       "  <tbody>\n",
       "    <tr>\n",
       "      <th>0</th>\n",
       "      <td>3.260</td>\n",
       "      <td>0.829</td>\n",
       "      <td>1.676</td>\n",
       "      <td>1.453</td>\n",
       "      <td>3.770</td>\n",
       "      <td>1</td>\n",
       "      <td>0</td>\n",
       "      <td>0</td>\n",
       "      <td>0</td>\n",
       "      <td>0</td>\n",
       "      <td>0</td>\n",
       "      <td>1</td>\n",
       "      <td>0</td>\n",
       "      <td>0</td>\n",
       "      <td>0</td>\n",
       "      <td>0</td>\n",
       "      <td>0</td>\n",
       "    </tr>\n",
       "    <tr>\n",
       "      <th>1</th>\n",
       "      <td>2.189</td>\n",
       "      <td>0.580</td>\n",
       "      <td>0.863</td>\n",
       "      <td>1.348</td>\n",
       "      <td>3.115</td>\n",
       "      <td>1</td>\n",
       "      <td>0</td>\n",
       "      <td>0</td>\n",
       "      <td>0</td>\n",
       "      <td>0</td>\n",
       "      <td>1</td>\n",
       "      <td>0</td>\n",
       "      <td>0</td>\n",
       "      <td>0</td>\n",
       "      <td>0</td>\n",
       "      <td>0</td>\n",
       "      <td>0</td>\n",
       "    </tr>\n",
       "    <tr>\n",
       "      <th>2</th>\n",
       "      <td>2.125</td>\n",
       "      <td>0.638</td>\n",
       "      <td>0.831</td>\n",
       "      <td>1.348</td>\n",
       "      <td>3.531</td>\n",
       "      <td>1</td>\n",
       "      <td>0</td>\n",
       "      <td>0</td>\n",
       "      <td>0</td>\n",
       "      <td>0</td>\n",
       "      <td>1</td>\n",
       "      <td>0</td>\n",
       "      <td>0</td>\n",
       "      <td>0</td>\n",
       "      <td>0</td>\n",
       "      <td>0</td>\n",
       "      <td>0</td>\n",
       "    </tr>\n",
       "    <tr>\n",
       "      <th>3</th>\n",
       "      <td>3.027</td>\n",
       "      <td>0.331</td>\n",
       "      <td>1.472</td>\n",
       "      <td>1.807</td>\n",
       "      <td>3.510</td>\n",
       "      <td>0</td>\n",
       "      <td>1</td>\n",
       "      <td>0</td>\n",
       "      <td>0</td>\n",
       "      <td>0</td>\n",
       "      <td>1</td>\n",
       "      <td>0</td>\n",
       "      <td>0</td>\n",
       "      <td>0</td>\n",
       "      <td>0</td>\n",
       "      <td>0</td>\n",
       "      <td>0</td>\n",
       "    </tr>\n",
       "    <tr>\n",
       "      <th>4</th>\n",
       "      <td>2.094</td>\n",
       "      <td>0.827</td>\n",
       "      <td>0.860</td>\n",
       "      <td>1.886</td>\n",
       "      <td>5.390</td>\n",
       "      <td>1</td>\n",
       "      <td>0</td>\n",
       "      <td>0</td>\n",
       "      <td>0</td>\n",
       "      <td>0</td>\n",
       "      <td>1</td>\n",
       "      <td>0</td>\n",
       "      <td>0</td>\n",
       "      <td>0</td>\n",
       "      <td>0</td>\n",
       "      <td>0</td>\n",
       "      <td>0</td>\n",
       "    </tr>\n",
       "    <tr>\n",
       "      <th>...</th>\n",
       "      <td>...</td>\n",
       "      <td>...</td>\n",
       "      <td>...</td>\n",
       "      <td>...</td>\n",
       "      <td>...</td>\n",
       "      <td>...</td>\n",
       "      <td>...</td>\n",
       "      <td>...</td>\n",
       "      <td>...</td>\n",
       "      <td>...</td>\n",
       "      <td>...</td>\n",
       "      <td>...</td>\n",
       "      <td>...</td>\n",
       "      <td>...</td>\n",
       "      <td>...</td>\n",
       "      <td>...</td>\n",
       "      <td>...</td>\n",
       "    </tr>\n",
       "    <tr>\n",
       "      <th>903</th>\n",
       "      <td>2.801</td>\n",
       "      <td>0.728</td>\n",
       "      <td>2.226</td>\n",
       "      <td>0.736</td>\n",
       "      <td>3.109</td>\n",
       "      <td>1</td>\n",
       "      <td>0</td>\n",
       "      <td>0</td>\n",
       "      <td>0</td>\n",
       "      <td>0</td>\n",
       "      <td>0</td>\n",
       "      <td>0</td>\n",
       "      <td>1</td>\n",
       "      <td>0</td>\n",
       "      <td>0</td>\n",
       "      <td>0</td>\n",
       "      <td>0</td>\n",
       "    </tr>\n",
       "    <tr>\n",
       "      <th>904</th>\n",
       "      <td>3.652</td>\n",
       "      <td>0.872</td>\n",
       "      <td>0.867</td>\n",
       "      <td>3.983</td>\n",
       "      <td>4.040</td>\n",
       "      <td>0</td>\n",
       "      <td>0</td>\n",
       "      <td>1</td>\n",
       "      <td>0</td>\n",
       "      <td>0</td>\n",
       "      <td>0</td>\n",
       "      <td>0</td>\n",
       "      <td>0</td>\n",
       "      <td>1</td>\n",
       "      <td>0</td>\n",
       "      <td>0</td>\n",
       "      <td>0</td>\n",
       "    </tr>\n",
       "    <tr>\n",
       "      <th>905</th>\n",
       "      <td>3.763</td>\n",
       "      <td>0.916</td>\n",
       "      <td>0.878</td>\n",
       "      <td>2.918</td>\n",
       "      <td>4.818</td>\n",
       "      <td>1</td>\n",
       "      <td>0</td>\n",
       "      <td>0</td>\n",
       "      <td>0</td>\n",
       "      <td>0</td>\n",
       "      <td>0</td>\n",
       "      <td>0</td>\n",
       "      <td>0</td>\n",
       "      <td>0</td>\n",
       "      <td>0</td>\n",
       "      <td>0</td>\n",
       "      <td>1</td>\n",
       "    </tr>\n",
       "    <tr>\n",
       "      <th>906</th>\n",
       "      <td>2.831</td>\n",
       "      <td>1.393</td>\n",
       "      <td>1.077</td>\n",
       "      <td>0.906</td>\n",
       "      <td>5.317</td>\n",
       "      <td>1</td>\n",
       "      <td>0</td>\n",
       "      <td>0</td>\n",
       "      <td>0</td>\n",
       "      <td>0</td>\n",
       "      <td>0</td>\n",
       "      <td>1</td>\n",
       "      <td>0</td>\n",
       "      <td>0</td>\n",
       "      <td>0</td>\n",
       "      <td>0</td>\n",
       "      <td>0</td>\n",
       "    </tr>\n",
       "    <tr>\n",
       "      <th>907</th>\n",
       "      <td>4.057</td>\n",
       "      <td>1.032</td>\n",
       "      <td>1.183</td>\n",
       "      <td>4.754</td>\n",
       "      <td>8.201</td>\n",
       "      <td>0</td>\n",
       "      <td>1</td>\n",
       "      <td>0</td>\n",
       "      <td>0</td>\n",
       "      <td>0</td>\n",
       "      <td>0</td>\n",
       "      <td>0</td>\n",
       "      <td>0</td>\n",
       "      <td>1</td>\n",
       "      <td>0</td>\n",
       "      <td>0</td>\n",
       "      <td>0</td>\n",
       "    </tr>\n",
       "  </tbody>\n",
       "</table>\n",
       "<p>908 rows × 17 columns</p>\n",
       "</div>"
      ],
      "text/plain": [
       "      CIC0  SM1_Dz  GATS1i  MLOGP  ...  NdssC_3  NdssC_4  NdssC_5  NdssC_6\n",
       "0    3.260   0.829   1.676  1.453  ...        0        0        0        0\n",
       "1    2.189   0.580   0.863  1.348  ...        0        0        0        0\n",
       "2    2.125   0.638   0.831  1.348  ...        0        0        0        0\n",
       "3    3.027   0.331   1.472  1.807  ...        0        0        0        0\n",
       "4    2.094   0.827   0.860  1.886  ...        0        0        0        0\n",
       "..     ...     ...     ...    ...  ...      ...      ...      ...      ...\n",
       "903  2.801   0.728   2.226  0.736  ...        0        0        0        0\n",
       "904  3.652   0.872   0.867  3.983  ...        1        0        0        0\n",
       "905  3.763   0.916   0.878  2.918  ...        0        0        0        1\n",
       "906  2.831   1.393   1.077  0.906  ...        0        0        0        0\n",
       "907  4.057   1.032   1.183  4.754  ...        1        0        0        0\n",
       "\n",
       "[908 rows x 17 columns]"
      ]
     },
     "metadata": {
      "tags": []
     },
     "execution_count": 76
    }
   ]
  },
  {
   "cell_type": "markdown",
   "metadata": {
    "id": "SroABqh8S487"
   },
   "source": [
    "Сохранение в csv"
   ]
  },
  {
   "cell_type": "code",
   "metadata": {
    "id": "jtGKPMD8SLTx"
   },
   "source": [
    "re_df.to_csv('../data/qsar/qsar_fish_toxicity_preprocessed.csv')"
   ],
   "execution_count": null,
   "outputs": []
  }
 ]
}